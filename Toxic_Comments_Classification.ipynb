{
 "cells": [
  {
   "cell_type": "markdown",
   "metadata": {
    "id": "vWQ1ZbtS2iHC"
   },
   "source": [
    "# Importing Libraries"
   ]
  },
  {
   "cell_type": "code",
   "execution_count": null,
   "metadata": {
    "colab": {
     "base_uri": "https://localhost:8080/"
    },
    "id": "D1052kei174L",
    "outputId": "9acd8a78-611a-4f17-bf75-ffeeea40bba3"
   },
   "outputs": [],
   "source": [
    "! pip install talos"
   ]
  },
  {
   "cell_type": "code",
   "execution_count": null,
   "metadata": {},
   "outputs": [],
   "source": [
    "! pip install spacy"
   ]
  },
  {
   "cell_type": "code",
   "execution_count": null,
   "metadata": {
    "colab": {
     "base_uri": "https://localhost:8080/"
    },
    "id": "OBYVfsyr2F0F",
    "outputId": "2cb98034-f97f-40a1-e561-52bccfea49ca"
   },
   "outputs": [],
   "source": [
    "import numpy as np, pandas as pd\n",
    "\n",
    "\n",
    "\n",
    "import re\n",
    "import spacy\n",
    "from spacy.lang.en import English\n",
    "from spacy.lang.en.stop_words import STOP_WORDS\n",
    "from nltk.tokenize import word_tokenize\n",
    "import nltk\n",
    "from nltk.stem import WordNetLemmatizer\n",
    "nltk.download('wordnet')\n",
    "import string\n",
    "from string import ascii_lowercase\n",
    "\n",
    "from tqdm import tqdm_notebook\n",
    "import itertools\n",
    "import io\n",
    "\n",
    "import matplotlib.pyplot as plt\n",
    "%matplotlib inline\n",
    "\n",
    "from functools import reduce\n",
    "from tensorflow import keras\n",
    "from tensorflow.keras.preprocessing.text import Tokenizer\n",
    "from tensorflow.keras.preprocessing.sequence import pad_sequences\n",
    "from tensorflow.keras.layers import Dense, Input, LSTM, Embedding, Dropout, Activation\n",
    "from tensorflow.keras.layers import Bidirectional, GlobalMaxPool1D\n",
    "from tensorflow.keras.models import Model\n",
    "from tensorflow.keras.models import Sequential\n",
    "from tensorflow.keras.layers import Conv1D, MaxPooling1D\n",
    "from tensorflow.keras.layers import BatchNormalization\n",
    "from tensorflow.keras import initializers, regularizers, constraints, optimizers, layers\n",
    "import talos"
   ]
  },
  {
   "cell_type": "markdown",
   "metadata": {
    "id": "9gV00UZc2ljl"
   },
   "source": [
    "# Importing Data"
   ]
  },
  {
   "cell_type": "code",
   "execution_count": null,
   "metadata": {
    "colab": {
     "base_uri": "https://localhost:8080/",
     "height": 206
    },
    "id": "1-kD2Hrl2Lk0",
    "outputId": "93c5ddea-ad98-4cd5-c10f-3fbe7be616bf"
   },
   "outputs": [],
   "source": [
    "train=pd.read_csv(\"C:\\\\Users\\\\Admin\\\\OneDrive\\\\Desktop\\\\Toxic-comments-classification-main\\\\data\\\\train.csv\")\n",
    "train.head()"
   ]
  },
  {
   "cell_type": "code",
   "execution_count": null,
   "metadata": {
    "colab": {
     "base_uri": "https://localhost:8080/",
     "height": 206
    },
    "id": "UTDTvDG02T1S",
    "outputId": "3e1d4426-2eec-4e88-dd96-19f3800141f5"
   },
   "outputs": [],
   "source": [
    "test=pd.read_csv(\"C:\\\\Users\\\\Admin\\\\OneDrive\\\\Desktop\\\\Toxic-comments-classification-main\\\\data\\\\test.csv\")\n",
    "test.head()"
   ]
  },
  {
   "cell_type": "markdown",
   "metadata": {
    "id": "6m3Rn6nN21fw"
   },
   "source": [
    "Data Exploration"
   ]
  },
  {
   "cell_type": "markdown",
   "metadata": {
    "id": "klv3WhDH25aA"
   },
   "source": [
    "Checking for missing values"
   ]
  },
  {
   "cell_type": "code",
   "execution_count": null,
   "metadata": {
    "colab": {
     "base_uri": "https://localhost:8080/"
    },
    "id": "qqY3PLKaehNK",
    "outputId": "819bde1d-c216-4fd5-d57c-a32d14cb0324"
   },
   "outputs": [],
   "source": [
    "train.shape"
   ]
  },
  {
   "cell_type": "code",
   "execution_count": null,
   "metadata": {
    "colab": {
     "base_uri": "https://localhost:8080/"
    },
    "id": "p9RSRZVUekV2",
    "outputId": "0087cb69-b63b-42c5-c782-9d8b253902e3"
   },
   "outputs": [],
   "source": [
    "test.shape"
   ]
  },
  {
   "cell_type": "code",
   "execution_count": null,
   "metadata": {
    "colab": {
     "base_uri": "https://localhost:8080/"
    },
    "id": "4swFflnA2VPW",
    "outputId": "4090c80f-98ed-4246-a820-3d798527540e"
   },
   "outputs": [],
   "source": [
    "train.isnull().any()"
   ]
  },
  {
   "cell_type": "code",
   "execution_count": null,
   "metadata": {
    "colab": {
     "base_uri": "https://localhost:8080/"
    },
    "id": "vovNYCl42_X6",
    "outputId": "cad960c8-99e5-4867-f869-d2c2af61378f"
   },
   "outputs": [],
   "source": [
    "test.isnull().any()"
   ]
  },
  {
   "cell_type": "code",
   "execution_count": null,
   "metadata": {
    "id": "nAfWWB1_3BaU"
   },
   "outputs": [],
   "source": [
    "Classification_labels = ['toxic', 'severe_toxic', 'obscene', 'threat', 'insult', 'identity_hate']\n",
    "y = train[Classification_labels].values"
   ]
  },
  {
   "cell_type": "markdown",
   "metadata": {
    "id": "WnyUTvDW3JRt"
   },
   "source": [
    "Data Pre-processing"
   ]
  },
  {
   "cell_type": "markdown",
   "metadata": {
    "id": "EmYCFL6g3V5i"
   },
   "source": [
    "Text Normalization"
   ]
  },
  {
   "cell_type": "code",
   "execution_count": null,
   "metadata": {
    "id": "jglnA7LEbpoA"
   },
   "outputs": [],
   "source": [
    "regex_patterns = {\n",
    "    ' american ':\n",
    "        [\n",
    "            'amerikan'\n",
    "        ],\n",
    "\n",
    "    ' adolf ':\n",
    "        [\n",
    "            'adolf'\n",
    "        ],\n",
    "\n",
    "\n",
    "    ' hitler ':\n",
    "        [\n",
    "            'hitler'\n",
    "        ],\n",
    "\n",
    "    ' fuck':\n",
    "        [\n",
    "            '(f)(u|[^a-z0-9 ])(c|[^a-z0-9 ])(k|[^a-z0-9 ])([^ ])*',\n",
    "            '(f)([^a-z]*)(u)([^a-z]*)(c)([^a-z]*)(k)',\n",
    "            ' f[!@#\\$%\\^\\&\\*]*u[!@#\\$%\\^&\\*]*k', 'f u u c',\n",
    "            '(f)(c|[^a-z ])(u|[^a-z ])(k)', r'f\\*',\n",
    "            'feck ', ' fux ', 'f\\*\\*', 'f**k','fu*k',\n",
    "            'f\\-ing', 'f\\.u\\.', 'f###', ' fu ', 'f@ck', 'f u c k', 'f uck', 'f ck'\n",
    "        ],\n",
    "\n",
    "    ' ass ':\n",
    "        [\n",
    "            '[^a-z]ass ', '[^a-z]azz ', 'arrse', ' arse ', '@\\$\\$',\n",
    "            '[^a-z]anus', ' a\\*s\\*s', '[^a-z]ass[^a-z ]',\n",
    "            'a[@#\\$%\\^&\\*][@#\\$%\\^&\\*]', '[^a-z]anal ', 'a s s','a55', '@$$'\n",
    "        ],\n",
    "\n",
    "    ' ass hole ':\n",
    "        [\n",
    "            ' a[s|z]*wipe', 'a[s|z]*[w]*h[o|0]+[l]*e', '@\\$\\$hole', 'a**hole'\n",
    "        ],\n",
    "\n",
    "    ' bitch ':\n",
    "        [\n",
    "            'b[w]*i[t]*ch', 'b!tch',\n",
    "            'bi\\+ch', 'b!\\+ch', '(b)([^a-z]*)(i)([^a-z]*)(t)([^a-z]*)(c)([^a-z]*)(h)',\n",
    "            'biatch', 'bi\\*\\*h', 'bytch', 'b i t c h', 'b!tch', 'bi+ch', 'l3itch'\n",
    "        ],\n",
    "\n",
    "    ' bastard ':\n",
    "        [\n",
    "            'ba[s|z]+t[e|a]+rd'\n",
    "        ],\n",
    "\n",
    "    ' trans gender':\n",
    "        [\n",
    "            'transgender'\n",
    "        ],\n",
    "\n",
    "    ' gay ':\n",
    "        [\n",
    "            'gay'\n",
    "        ],\n",
    "\n",
    "    ' cock ':\n",
    "        [\n",
    "            '[^a-z]cock', 'c0ck', '[^a-z]cok ', 'c0k', '[^a-z]cok[^aeiou]', ' cawk',\n",
    "            '(c)([^a-z ])(o)([^a-z ]*)(c)([^a-z ]*)(k)', 'c o c k'\n",
    "        ],\n",
    "\n",
    "    ' dick ':\n",
    "        [\n",
    "            ' dick[^aeiou]', 'deek', 'd i c k', 'dik'\n",
    "        ],\n",
    "\n",
    "    ' suck ':\n",
    "        [\n",
    "            'sucker', '(s)([^a-z ]*)(u)([^a-z ]*)(c)([^a-z ]*)(k)', 'sucks', '5uck', 's u c k'\n",
    "        ],\n",
    "\n",
    "    ' cunt ':\n",
    "        [\n",
    "            'cunt', 'c u n t'\n",
    "        ],\n",
    "\n",
    "    ' bull shit ':\n",
    "        [\n",
    "            'bullsh\\*t', 'bull\\$hit'\n",
    "        ],\n",
    "\n",
    "    ' homo sex ual':\n",
    "        [\n",
    "            'homosexual'\n",
    "        ],\n",
    "\n",
    "    ' jerk ':\n",
    "        [\n",
    "            'jerk'\n",
    "        ],\n",
    "\n",
    "    ' idiot ':\n",
    "        [\n",
    "            'i[d]+io[t]+', '(i)([^a-z ]*)(d)([^a-z ]*)(i)([^a-z ]*)(o)([^a-z ]*)(t)', 'idiots'\n",
    "                                                                                      'i d i o t'\n",
    "        ],\n",
    "\n",
    "    ' dumb ':\n",
    "        [\n",
    "            '(d)([^a-z ]*)(u)([^a-z ]*)(m)([^a-z ]*)(b)'\n",
    "        ],\n",
    "\n",
    "    ' shit ':\n",
    "        [\n",
    "            'shitty', '(s)([^a-z ]*)(h)([^a-z ]*)(i)([^a-z ]*)(t)', 'shite', '\\$hit', 's h i t', '$h1t'\n",
    "        ],\n",
    "\n",
    "    ' shit hole ':\n",
    "        [\n",
    "            'shythole'\n",
    "        ],\n",
    "\n",
    "    ' retard ':\n",
    "        [\n",
    "            'returd', 'retad', 'retard', 'wiktard', 'wikitud'\n",
    "        ],\n",
    "\n",
    "    ' rape ':\n",
    "        [\n",
    "            ' raped'\n",
    "        ],\n",
    "\n",
    "    ' dumb ass':\n",
    "        [\n",
    "            'dumbass', 'dubass'\n",
    "        ],\n",
    "\n",
    "    ' ass head':\n",
    "        [\n",
    "            'butthead'\n",
    "        ],\n",
    "\n",
    "    ' sex ':\n",
    "        [\n",
    "            'sexy', 's3x', 'sexuality'\n",
    "        ],\n",
    "\n",
    "\n",
    "    ' nigger ':\n",
    "        [\n",
    "            'nigger', 'ni[g]+a', ' nigr ', 'negrito', 'niguh', 'n3gr', 'n i g g e r'\n",
    "        ],\n",
    "\n",
    "    ' shut the fuck up':\n",
    "        [\n",
    "            'stfu', 'st*u'\n",
    "        ],\n",
    "\n",
    "    ' pussy ':\n",
    "        [\n",
    "            'pussy[^c]', 'pusy', 'pussi[^l]', 'pusses', 'p*ssy'\n",
    "        ],\n",
    "\n",
    "    ' faggot ':\n",
    "        [\n",
    "            'faggot', ' fa[g]+[s]*[^a-z ]', 'fagot', 'f a g g o t', 'faggit',\n",
    "            '(f)([^a-z ]*)(a)([^a-z ]*)([g]+)([^a-z ]*)(o)([^a-z ]*)(t)', 'fau[g]+ot', 'fae[g]+ot',\n",
    "        ],\n",
    "\n",
    "    ' mother fucker':\n",
    "        [\n",
    "            ' motha ', ' motha f', ' mother f', 'motherucker',\n",
    "        ],\n",
    "\n",
    "    ' whore ':\n",
    "        [\n",
    "            'wh\\*\\*\\*', 'w h o r e'\n",
    "        ],\n",
    "    ' fucking ':\n",
    "        [\n",
    "            'f*$%-ing'\n",
    "        ],\n",
    "}\n"
   ]
  },
  {
   "cell_type": "code",
   "execution_count": null,
   "metadata": {
    "id": "4RetJ1vgswOG"
   },
   "outputs": [],
   "source": [
    "def clean_text(text,repeat_text=True, patterns_text=True, is_lower=True):\n",
    "\n",
    "  if is_lower:\n",
    "    text=text.lower()\n",
    "\n",
    "  if patterns_text:\n",
    "    for target, patterns in regex_patterns.items():\n",
    "      for pat in patterns:\n",
    "        text=str(text).replace(pat, target)\n",
    "\n",
    "  if repeat_text:\n",
    "    text = re.sub(r'(.)\\1{2,}', r'\\1', text)\n",
    "\n",
    "  text = str(text).replace(\"\\n\", \" \")\n",
    "  text = re.sub(r'[^\\w\\s]',' ',text)\n",
    "  text = re.sub('[0-9]',\"\",text)\n",
    "  text = re.sub(\" +\", \" \", text)\n",
    "  text = re.sub(\"([^\\x00-\\x7F])+\",\" \",text)\n",
    "  return text"
   ]
  },
  {
   "cell_type": "markdown",
   "metadata": {
    "id": "xh1V_H6z3nY3"
   },
   "source": [
    "Cleaning Training Data"
   ]
  },
  {
   "cell_type": "code",
   "execution_count": null,
   "metadata": {
    "colab": {
     "base_uri": "https://localhost:8080/",
     "height": 36
    },
    "id": "6i23WGkp3lYv",
    "outputId": "25176f73-10b2-4317-e3eb-b68f2f21a1b8"
   },
   "outputs": [],
   "source": [
    "train['comment_text']=train['comment_text'].apply(lambda x: clean_text(x))\n",
    "train['comment_text'][1]"
   ]
  },
  {
   "cell_type": "markdown",
   "metadata": {
    "id": "o7cxVZkO3sba"
   },
   "source": [
    "Cleaning Test Data"
   ]
  },
  {
   "cell_type": "code",
   "execution_count": null,
   "metadata": {
    "colab": {
     "base_uri": "https://localhost:8080/",
     "height": 36
    },
    "id": "_GI6vNOY3tSp",
    "outputId": "e0dc38db-4110-420b-a215-3a531976c818"
   },
   "outputs": [],
   "source": [
    "test['comment_text']=test['comment_text'].apply(lambda x: clean_text(x))\n",
    "test['comment_text'][1048]"
   ]
  },
  {
   "cell_type": "markdown",
   "metadata": {
    "id": "4bDPW3ka3vGa"
   },
   "source": [
    "Lemmatization"
   ]
  },
  {
   "cell_type": "code",
   "execution_count": null,
   "metadata": {
    "id": "HbpAQz2K3wxg"
   },
   "outputs": [],
   "source": [
    "comments_train=train['comment_text']\n",
    "comments_test=test['comment_text']"
   ]
  },
  {
   "cell_type": "code",
   "execution_count": null,
   "metadata": {
    "id": "V1-iTQI83zEW"
   },
   "outputs": [],
   "source": [
    "comments_train=list(comments_train)\n",
    "comments_test=list(comments_test)"
   ]
  },
  {
   "cell_type": "code",
   "execution_count": null,
   "metadata": {
    "id": "4eVR8fUI32hr"
   },
   "outputs": [],
   "source": [
    "wordnet_lemmatizer = WordNetLemmatizer()"
   ]
  },
  {
   "cell_type": "code",
   "execution_count": null,
   "metadata": {
    "id": "fi-vYUcPoi-a"
   },
   "outputs": [],
   "source": [
    "def lemma(text, lemmatization=True):\n",
    "  output=\"\"\n",
    "  if lemmatization:\n",
    "    text=text.split(\" \")\n",
    "    for word in text:\n",
    "       word1 = wordnet_lemmatizer.lemmatize(word, pos = \"n\")\n",
    "       word2 = wordnet_lemmatizer.lemmatize(word1, pos = \"v\")\n",
    "       word3 = wordnet_lemmatizer.lemmatize(word2, pos = \"a\")\n",
    "       word4 = wordnet_lemmatizer.lemmatize(word3, pos = \"r\")\n",
    "       output=output + \" \" + word4\n",
    "  else:\n",
    "    output=text\n",
    "\n",
    "  return str(output.strip())"
   ]
  },
  {
   "cell_type": "markdown",
   "metadata": {
    "id": "ACTFTW1f4Al9"
   },
   "source": [
    "Lemmatizing Training Data"
   ]
  },
  {
   "cell_type": "code",
   "execution_count": null,
   "metadata": {
    "colab": {
     "base_uri": "https://localhost:8080/",
     "height": 49,
     "referenced_widgets": [
      "460201bfd90d45ae917c46c036a2ff81",
      "81e28fccd2ff4227a23721d7e662499e",
      "75d5a445244d4b87bc6d3e8fbfa6d942",
      "58bae91dc17e4d4e9e72a3cd3945e492",
      "985b07dbc9a74374927bd80f8f749bcf",
      "3687ca7784184b8ea023c14ef145cfe9",
      "e7de5c0dcda54a3ca3bdcd314504eae4",
      "569e22f2df2348378712c7d8075f67b6",
      "c1c8a909a3b64935944ed68dd4038455",
      "d505c3c947d143d4b98dba7c57ddc9a9",
      "f058b453caf6435b890b5493838b5754"
     ]
    },
    "id": "O_qN5SVT3-FJ",
    "outputId": "5b9c0ef7-9f92-49b5-9335-cf6fe8f88ba3"
   },
   "outputs": [],
   "source": [
    "lem_train_data = []\n",
    "\n",
    "for line in tqdm_notebook(comments_train, total=159571):\n",
    "    lem_train_data.append(lemma(line))"
   ]
  },
  {
   "cell_type": "code",
   "execution_count": null,
   "metadata": {},
   "outputs": [],
   "source": [
    "! pip install ipywidgets --upgrade\n",
    "! pip install jupyter --upgrade\n",
    "! jupyter nbextension enable --py widgetsnbextension --sys-prefix\n",
    "! jupyter nbextension enable --py --sys-prefix ipywidgets\n",
    "! jupyter nbextension install --py widgetsnbextension --sys-prefix\n"
   ]
  },
  {
   "cell_type": "code",
   "execution_count": null,
   "metadata": {
    "colab": {
     "base_uri": "https://localhost:8080/",
     "height": 70
    },
    "id": "GsnDvVrE4JEE",
    "outputId": "0a17b69b-8c17-432e-d4c0-a3a28c3cf750"
   },
   "outputs": [],
   "source": [
    "lem_train_data[152458]"
   ]
  },
  {
   "cell_type": "markdown",
   "metadata": {
    "id": "n9vu9kNW4EQO"
   },
   "source": [
    "Lemmatizing Test Data"
   ]
  },
  {
   "cell_type": "code",
   "execution_count": null,
   "metadata": {
    "colab": {
     "base_uri": "https://localhost:8080/",
     "height": 49,
     "referenced_widgets": [
      "317649c0455d4460978e8a44ef8b3af3",
      "df98ac59d5d848e687fa5e9468af37d8",
      "efdb1473add24b2d86adbffc3fb2f9aa",
      "89c25bc7e4c84f59aeafa76c68ec459a",
      "28c988e245214dc38250023e209c1376",
      "85d32495476f40a48326394b758a7a4f",
      "d83fb54cd42442ccbeecc50c391c910a",
      "ce1d523f20424ecbae2cfedd55e14291",
      "2e545babc99d4760a538bb68148be1e4",
      "dda8d05e3fb94beca1dae74215625b9e",
      "c92982ba20154ac08bbf8991e178be7a"
     ]
    },
    "id": "QMJkvRKF4L7X",
    "outputId": "889e9c79-f684-4c29-da7e-75c9d4159f4a"
   },
   "outputs": [],
   "source": [
    "lem_test_data = []\n",
    "\n",
    "for line in tqdm_notebook(comments_test, total=len(comments_test)):\n",
    "    lem_test_data.append(lemma(line))"
   ]
  },
  {
   "cell_type": "markdown",
   "metadata": {
    "id": "eSCNcT104Q0x"
   },
   "source": [
    "Stopwords Removal"
   ]
  },
  {
   "cell_type": "code",
   "execution_count": null,
   "metadata": {
    "id": "G5YjuVT04Ody"
   },
   "outputs": [],
   "source": [
    "Total_stopword=STOP_WORDS"
   ]
  },
  {
   "cell_type": "markdown",
   "metadata": {
    "id": "cStt1OzQ5oEo"
   },
   "source": [
    "# Removing Stopwords from Training Data"
   ]
  },
  {
   "cell_type": "code",
   "execution_count": null,
   "metadata": {
    "id": "RRSga8PKsktA"
   },
   "outputs": [],
   "source": [
    "def stopwords(text, rem_stop_wrds=True):\n",
    "  output_text = \"\"\n",
    "  if rem_stop_wrds:\n",
    "    text=text.split(\" \")\n",
    "    for word in text:\n",
    "      if word not in Total_stopword:\n",
    "        output_text=output_text + \" \" + word\n",
    "  else :\n",
    "    output_text=text\n",
    "\n",
    "  return str(output_text.strip())"
   ]
  },
  {
   "cell_type": "code",
   "execution_count": null,
   "metadata": {
    "colab": {
     "base_uri": "https://localhost:8080/",
     "height": 49,
     "referenced_widgets": [
      "467abca78cd04e82984e9dcaa1f33247",
      "3b82410f4be74967b1f9ec2e90003bf5",
      "cdf2fc66e1b84515ad80942eda775bdd",
      "3987a80fb94d406d8a13d307bdaff8e7",
      "bc23d0c042fa44aeb01a7ee63c5c01a4",
      "f774bb423c0e4104b244ec43756b5824",
      "4d2caf48d94c47bd9d9bc434fa473528",
      "f25687c8458e47de9dc731df45e0bc8c",
      "6de1242b53d2485fac11fccb56101e1f",
      "759d349e13194231bb28fd6d58c03a77",
      "83e2cc59a4f6446ebc0c4780e3d43135"
     ]
    },
    "id": "Q-hItiV7skoV",
    "outputId": "d78152ba-6d64-4b67-e355-786c732d9d66"
   },
   "outputs": [],
   "source": [
    "proc_train_data = []\n",
    "\n",
    "for line in tqdm_notebook(lem_train_data, total=159571):\n",
    "    proc_train_data.append(stopwords(line))"
   ]
  },
  {
   "cell_type": "code",
   "execution_count": null,
   "metadata": {
    "colab": {
     "base_uri": "https://localhost:8080/",
     "height": 53
    },
    "id": "hXI5qr0K5dbI",
    "outputId": "f5dc3c19-2194-43cb-f7e2-31e4c0a74fb4"
   },
   "outputs": [],
   "source": [
    "proc_train_data[152458]"
   ]
  },
  {
   "cell_type": "markdown",
   "metadata": {
    "id": "Y-x6JGFE6E2f"
   },
   "source": [
    "Removing Stopwords from Test Data"
   ]
  },
  {
   "cell_type": "code",
   "execution_count": null,
   "metadata": {
    "colab": {
     "base_uri": "https://localhost:8080/",
     "height": 49,
     "referenced_widgets": [
      "af262290b56c49b9ae5a6162f3c0af8b",
      "d5ca752c0ca94ababd378ecc4231769a",
      "23a9ce7b1df54593b5dd05ce4059e710",
      "961f2eb1845d4daf90a4769eaffeb136",
      "bc2e14df08a247e7be7d23bfe5525888",
      "04114b1ba4b14e7d804144d4e0aa5947",
      "ddb5f2a9e007498cae9bd48d46ec484a",
      "99f3fb2fa1214229b987d666d89ff4f3",
      "b5e3c4fc694c475c9c85574539695f1c",
      "32d09debb4024a9c8b990adf9b797788",
      "2c3e98caa9b643679b5c49fec76772c7"
     ]
    },
    "id": "KgL934R_6Brt",
    "outputId": "6f96b277-5f44-4354-c11c-7a7f080167a8"
   },
   "outputs": [],
   "source": [
    "proc_test_data = []\n",
    "\n",
    "for line in tqdm_notebook(lem_test_data, total=153164):\n",
    "    proc_test_data.append(stopwords(line))"
   ]
  },
  {
   "cell_type": "markdown",
   "metadata": {
    "id": "Gri0AA9R6IT_"
   },
   "source": [
    "Model Building"
   ]
  },
  {
   "cell_type": "code",
   "execution_count": null,
   "metadata": {
    "id": "ntgV0JIy6mNw"
   },
   "outputs": [],
   "source": [
    "max_features=100000\n",
    "maxpadlen = 200\n",
    "val_split = 0.2\n",
    "embed_dim_fasttext = 300"
   ]
  },
  {
   "cell_type": "markdown",
   "metadata": {
    "id": "bJwZJ2KpQTBj"
   },
   "source": [
    "Tokenization"
   ]
  },
  {
   "cell_type": "code",
   "execution_count": null,
   "metadata": {
    "id": "x8JHr_-UQV8_"
   },
   "outputs": [],
   "source": [
    "tokenizer = Tokenizer(num_words=max_features)\n",
    "tokenizer.fit_on_texts(list(proc_train_data))\n",
    "list_tokenized_train = tokenizer.texts_to_sequences(proc_train_data)\n",
    "list_tokenized_test = tokenizer.texts_to_sequences(proc_test_data)"
   ]
  },
  {
   "cell_type": "code",
   "execution_count": null,
   "metadata": {
    "colab": {
     "base_uri": "https://localhost:8080/"
    },
    "id": "ep6twLy1RS7y",
    "outputId": "d5d367a7-6877-48d8-b37d-79d6cabac8ae"
   },
   "outputs": [],
   "source": [
    "word_index=tokenizer.word_index\n",
    "print(\"Words in Vocabulary: \",len(word_index))"
   ]
  },
  {
   "cell_type": "markdown",
   "metadata": {
    "id": "qmXY2EKSRV9n"
   },
   "source": [
    "Padding"
   ]
  },
  {
   "cell_type": "code",
   "execution_count": null,
   "metadata": {
    "id": "pqT3ekPQRXKo"
   },
   "outputs": [],
   "source": [
    "X_t=pad_sequences(list_tokenized_train, maxlen=maxpadlen, padding = 'post')\n",
    "X_te=pad_sequences(list_tokenized_test, maxlen=maxpadlen, padding = 'post')"
   ]
  },
  {
   "cell_type": "code",
   "execution_count": null,
   "metadata": {
    "colab": {
     "base_uri": "https://localhost:8080/"
    },
    "id": "UWGCiwECRaFH",
    "outputId": "41d8c54c-b517-4621-a990-7d0eb2af4519"
   },
   "outputs": [],
   "source": [
    "print('Tokenized sentences: \\n', X_t[10])\n",
    "print('One hot label: \\n', y[10])"
   ]
  },
  {
   "cell_type": "code",
   "execution_count": null,
   "metadata": {
    "id": "QeOEDLdDRgkK"
   },
   "outputs": [],
   "source": [
    "indices = np.arange(X_t.shape[0])\n",
    "np.random.shuffle(indices)"
   ]
  },
  {
   "cell_type": "code",
   "execution_count": null,
   "metadata": {
    "id": "yCjPkcBIRhEb"
   },
   "outputs": [],
   "source": [
    "X_t = X_t[indices]\n",
    "labels = y[indices]"
   ]
  },
  {
   "cell_type": "markdown",
   "metadata": {
    "id": "Tg_BDqk67Ajc"
   },
   "source": [
    "Splitting data into Training and Validation Set"
   ]
  },
  {
   "cell_type": "code",
   "execution_count": null,
   "metadata": {
    "id": "xFND3c7A7Ba5"
   },
   "outputs": [],
   "source": [
    "num_val_samples = int(val_split*X_t.shape[0])\n",
    "x_tr = X_t[: -num_val_samples]\n",
    "y_tr = labels[: -num_val_samples]\n",
    "x_val = X_t[-num_val_samples: ]\n",
    "y_val = labels[-num_val_samples: ]"
   ]
  },
  {
   "cell_type": "code",
   "execution_count": null,
   "metadata": {
    "colab": {
     "base_uri": "https://localhost:8080/"
    },
    "id": "-L78G6XF7DzQ",
    "outputId": "ac374f90-5e52-494c-dc2f-2af19711c501"
   },
   "outputs": [],
   "source": [
    "print('Number of entries in each category:')\n",
    "print('training entries: ', y_tr.sum(axis=0))\n",
    "print('validation entries: ', y_val.sum(axis=0))"
   ]
  },
  {
   "cell_type": "markdown",
   "metadata": {
    "id": "dBCj7jSO1KKN"
   },
   "source": [
    "Importing Fast tex"
   ]
  },
  {
   "cell_type": "code",
   "execution_count": null,
   "metadata": {
    "id": "7PXMoNEl1NcX"
   },
   "outputs": [],
   "source": [
    "embed_index_fasttext = {}\n",
    "f = open('C:\\\\Users\\\\Admin\\\\OneDrive\\\\Desktop\\\\Toxic-comments-classification-main\\\\data\\\\wiki-news-300d-1M-subword.vec', encoding='utf8')\n",
    "for line in f:\n",
    "    values = line.split()\n",
    "    word = values[0]\n",
    "    embed_index_fasttext[word] = np.asarray(values[1:], dtype='float32')\n",
    "f.close()"
   ]
  },
  {
   "cell_type": "code",
   "execution_count": null,
   "metadata": {
    "colab": {
     "base_uri": "https://localhost:8080/"
    },
    "id": "JCpxKJNW1QUY",
    "outputId": "7f138085-70c5-4bb9-bf85-b5ba0c256460"
   },
   "outputs": [],
   "source": [
    "embed_matrix_fasttext = np.random.random((len(word_index) + 1, embed_dim_fasttext))\n",
    "for word, i in word_index.items():\n",
    "    embed_vector = embed_index_fasttext.get(word)\n",
    "    if embed_vector is not None:\n",
    "        embed_matrix_fasttext[i] = embed_vector\n",
    "print(\" Task Completed\")"
   ]
  },
  {
   "cell_type": "markdown",
   "metadata": {
    "id": "biSaylNl7NZe"
   },
   "source": [
    "Creating Model"
   ]
  },
  {
   "cell_type": "markdown",
   "metadata": {
    "id": "QGUdrb5I7dVI"
   },
   "source": [
    "Talos Grid Search for LSTM Model"
   ]
  },
  {
   "cell_type": "code",
   "execution_count": null,
   "metadata": {
    "id": "hnCI4Ktd1XSY"
   },
   "outputs": [],
   "source": [
    "def toxic_comment_classifier(x_train,y_train,x_val,y_val,params):\n",
    "\n",
    "  inp=Input(shape=(maxpadlen, ),dtype='int32')\n",
    "\n",
    "  embedding_layer = Embedding(len(word_index) + 1,\n",
    "                           embed_dim_fasttext,\n",
    "                           weights = [embed_matrix_fasttext],\n",
    "                           input_length = maxpadlen,\n",
    "                           trainable=False,\n",
    "                           name = 'embeddings')\n",
    "  embedded_sequences = embedding_layer(inp)\n",
    "\n",
    "  x = LSTM(params['output_count_lstm'], return_sequences=True,name='lstm_layer')(embedded_sequences)\n",
    "\n",
    "  x = GlobalMaxPool1D()(x)\n",
    "\n",
    "  x = Dropout(params['dropout'])(x)\n",
    "\n",
    "  x = Dense(params['output_count_dense'], activation=params['activation'], kernel_initializer='he_uniform')(x)\n",
    "\n",
    "  x = Dropout(params['dropout'])(x)\n",
    "\n",
    "  preds = Dense(6, activation=params['last_activation'], kernel_initializer='glorot_uniform')(x)\n",
    "\n",
    "  model = Model(inputs=inp, outputs=preds)\n",
    "\n",
    "  model.compile(loss=params['loss'], optimizer=params['optimizer'], metrics=['accuracy'])\n",
    "\n",
    "  model_info=model.fit(x_train,y_train, epochs=params['epochs'], batch_size=params['batch_size'],  validation_data=(x_val, y_val))\n",
    "\n",
    "  return model_info, model"
   ]
  },
  {
   "cell_type": "code",
   "execution_count": null,
   "metadata": {
    "id": "-6AtSibHGoTU"
   },
   "outputs": [],
   "source": [
    "p={\n",
    "    'output_count_lstm': [40,50,60],\n",
    "    'output_count_dense': [30,40,50],\n",
    "    'batch_size': [32],\n",
    "    'epochs':[2],\n",
    "    'optimizer':['adam'],\n",
    "    'activation':['relu'],\n",
    "    'last_activation': ['sigmoid'],\n",
    "    'dropout':[0.1,0.2],\n",
    "    'loss': ['binary_crossentropy']\n",
    "}"
   ]
  },
  {
   "cell_type": "code",
   "execution_count": null,
   "metadata": {
    "colab": {
     "base_uri": "https://localhost:8080/"
    },
    "id": "XAI9KMbF7lDY",
    "outputId": "1faf93ee-ac44-43fe-e60b-029cdec0c4c9"
   },
   "outputs": [],
   "source": [
    "drscan_results = talos.Scan(x=x_tr,\n",
    "               y=y_tr,\n",
    "               x_val=x_val,\n",
    "               y_val=y_val,\n",
    "               model=toxic_comment_classifier,\n",
    "               params=p,\n",
    "               experiment_name='tcc',\n",
    "               print_params=True)"
   ]
  },
  {
   "cell_type": "code",
   "execution_count": null,
   "metadata": {
    "colab": {
     "base_uri": "https://localhost:8080/"
    },
    "id": "auuKGwet7nb-",
    "outputId": "6e1b0664-dc27-4257-c7d0-d149ae30c49c"
   },
   "outputs": [],
   "source": [
    "model_id = drscan_results.data['val_accuracy'].astype('float').argmax()\n",
    "model_id"
   ]
  },
  {
   "cell_type": "code",
   "execution_count": null,
   "metadata": {
    "id": "kwgJ6xzN7pfe"
   },
   "outputs": [],
   "source": [
    "analyze_object = talos.Analyze(drscan_results)"
   ]
  },
  {
   "cell_type": "code",
   "execution_count": null,
   "metadata": {
    "colab": {
     "base_uri": "https://localhost:8080/"
    },
    "id": "VpSNrRvi7rll",
    "outputId": "95de82d4-7afc-4d94-857f-28740f90fff7"
   },
   "outputs": [],
   "source": [
    "analyze_object.best_params('val_accuracy', ['accuracy', 'loss', 'val_loss'])"
   ]
  },
  {
   "cell_type": "code",
   "execution_count": null,
   "metadata": {
    "colab": {
     "base_uri": "https://localhost:8080/",
     "height": 1000
    },
    "id": "3k8VKpuJ7uxd",
    "outputId": "cb3f6dcc-6aad-460f-f076-f406525050d6"
   },
   "outputs": [],
   "source": [
    "analyze_object.plot_line('val_accuracy')"
   ]
  },
  {
   "cell_type": "code",
   "execution_count": null,
   "metadata": {
    "colab": {
     "base_uri": "https://localhost:8080/",
     "height": 1000
    },
    "id": "erN39w3A7w9j",
    "outputId": "937a7e45-0b1b-4a4c-f8ba-d43c383d4546"
   },
   "outputs": [],
   "source": [
    "analyze_object.plot_line('accuracy')"
   ]
  },
  {
   "cell_type": "markdown",
   "metadata": {
    "id": "VIc-W39S7zu0"
   },
   "source": [
    "Talos Grid Search for LSTM-CNN Model"
   ]
  },
  {
   "cell_type": "code",
   "execution_count": null,
   "metadata": {
    "id": "jH7jcbAs7MXv"
   },
   "outputs": [],
   "source": [
    "def toxic_classifier(x_train,y_train,x_val,y_val,params):\n",
    "\n",
    "  inp=Input(shape=(maxpadlen, ),dtype='int32')\n",
    "\n",
    "  embedding_layer = Embedding(len(word_index) + 1,\n",
    "                           embed_dim_fasttext,\n",
    "                           weights = [embed_matrix_fasttext],\n",
    "                           input_length = maxpadlen,\n",
    "                           trainable=False,\n",
    "                           name = 'embeddings')\n",
    "  embedded_sequences = embedding_layer(inp)\n",
    "\n",
    "  x = LSTM(params['output_count_lstm'], return_sequences=True,name='lstm_layer')(embedded_sequences)\n",
    "\n",
    "  x = Conv1D(filters=params['filters'], kernel_size=params['kernel_size'], padding='same', activation='relu', kernel_initializer='he_uniform')(x)\n",
    "\n",
    "  x = MaxPooling1D(params['pool_size'])(x)\n",
    "\n",
    "  x = GlobalMaxPool1D()(x)\n",
    "\n",
    "  x = BatchNormalization()(x)\n",
    "\n",
    "  x = Dense(params['output_1_count_dense'], activation=params['activation'], kernel_initializer='he_uniform')(x)\n",
    "\n",
    "  x = Dropout(params['dropout'])(x)\n",
    "\n",
    "  x = Dense(params['output_2_count_dense'], activation=params['activation'], kernel_initializer='he_uniform')(x)\n",
    "\n",
    "  x = Dropout(params['dropout'])(x)\n",
    "\n",
    "  preds = Dense(6, activation=params['last_activation'], kernel_initializer='glorot_uniform')(x)\n",
    "\n",
    "  model = Model(inputs=inp, outputs=preds)\n",
    "\n",
    "  model.compile(loss=params['loss'], optimizer=params['optimizer'], metrics=['accuracy'])\n",
    "\n",
    "  model_info=model.fit(x_train,y_train, epochs=params['epochs'], batch_size=params['batch_size'],  validation_data=(x_val, y_val))\n",
    "\n",
    "  return model_info, model"
   ]
  },
  {
   "cell_type": "code",
   "execution_count": null,
   "metadata": {
    "id": "-Ru7Tkq67QoO"
   },
   "outputs": [],
   "source": [
    "p={\n",
    "    'output_count_lstm': [50,60],\n",
    "    'output_1_count_dense': [40,50],\n",
    "    'output_2_count_dense': [30,40],\n",
    "    'filters' : [64],\n",
    "    'kernel_size' : [3],\n",
    "    'batch_size': [32],\n",
    "    'pool_size': [3],\n",
    "    'epochs':[2],\n",
    "    'optimizer':['adam'],\n",
    "    'activation':['relu'],\n",
    "    'last_activation': ['sigmoid'],\n",
    "    'dropout':[0.1,0.2],\n",
    "    'loss': ['binary_crossentropy']\n",
    "}"
   ]
  },
  {
   "cell_type": "code",
   "execution_count": null,
   "metadata": {
    "colab": {
     "base_uri": "https://localhost:8080/"
    },
    "id": "9l3M27FU7QiG",
    "outputId": "d9ee19ee-7a9c-4d1d-ba0c-fe36738a25ba"
   },
   "outputs": [],
   "source": [
    "scan_results = talos.Scan(x=x_tr,\n",
    "               y=y_tr,\n",
    "               x_val=x_val,\n",
    "               y_val=y_val,\n",
    "               model=toxic_classifier,\n",
    "               params=p,\n",
    "               experiment_name='tcc',\n",
    "               print_params=True)"
   ]
  },
  {
   "cell_type": "code",
   "execution_count": null,
   "metadata": {
    "colab": {
     "base_uri": "https://localhost:8080/"
    },
    "id": "Kw7TtHKE75Fu",
    "outputId": "56bf535b-2350-468d-8241-355e7bd4634c"
   },
   "outputs": [],
   "source": [
    "model_id = scan_results.data['val_accuracy'].astype('float').argmax()\n",
    "model_id"
   ]
  },
  {
   "cell_type": "code",
   "execution_count": null,
   "metadata": {
    "colab": {
     "base_uri": "https://localhost:8080/",
     "height": 191
    },
    "id": "wnu9QPRJ8CzF",
    "outputId": "e1678731-4c30-468c-9b72-44056b493467"
   },
   "outputs": [],
   "source": [
    "scan_results.data[8:9]"
   ]
  },
  {
   "cell_type": "code",
   "execution_count": null,
   "metadata": {
    "id": "jE4A9JEZ8FEP"
   },
   "outputs": [],
   "source": [
    "analyze_object = talos.Analyze(scan_results)"
   ]
  },
  {
   "cell_type": "code",
   "execution_count": null,
   "metadata": {
    "colab": {
     "base_uri": "https://localhost:8080/"
    },
    "id": "J5C5fmkz8HJk",
    "outputId": "3f32fef4-8df3-4159-a301-e3e4b6e17229"
   },
   "outputs": [],
   "source": [
    "analyze_object.best_params('val_accuracy', ['accuracy', 'loss', 'val_loss'])"
   ]
  },
  {
   "cell_type": "code",
   "execution_count": null,
   "metadata": {
    "colab": {
     "base_uri": "https://localhost:8080/",
     "height": 1000
    },
    "id": "kSdLNPWg8J4r",
    "outputId": "f9675485-9095-41d6-bb60-f283e59d233d"
   },
   "outputs": [],
   "source": [
    "analyze_object.plot_line('val_accuracy')"
   ]
  },
  {
   "cell_type": "code",
   "execution_count": null,
   "metadata": {
    "colab": {
     "base_uri": "https://localhost:8080/",
     "height": 1000
    },
    "id": "ZHw3SA0q8L_K",
    "outputId": "f3f0f056-7756-4b27-fa84-233c378fabf3"
   },
   "outputs": [],
   "source": [
    "analyze_object.plot_line('accuracy')"
   ]
  },
  {
   "cell_type": "markdown",
   "metadata": {
    "id": "44vpoN4t8OiF"
   },
   "source": [
    "Training Model with Best Parameters"
   ]
  },
  {
   "cell_type": "markdown",
   "metadata": {
    "id": "g6U0shl58TPK"
   },
   "source": [
    "LSTM"
   ]
  },
  {
   "cell_type": "code",
   "execution_count": null,
   "metadata": {
    "id": "VpXygArD8RAe"
   },
   "outputs": [],
   "source": [
    "inp=Input(shape=(maxpadlen, ),dtype='int32')"
   ]
  },
  {
   "cell_type": "code",
   "execution_count": null,
   "metadata": {
    "id": "rNLPdeYz8WxX"
   },
   "outputs": [],
   "source": [
    "embedding_layer = Embedding(len(word_index) + 1,\n",
    "                           embed_dim_fasttext,\n",
    "                           weights = [embed_matrix_fasttext],\n",
    "                           input_length = maxpadlen,\n",
    "                           trainable=False,\n",
    "                           name = 'embeddings')\n",
    "embedded_sequences = embedding_layer(inp)"
   ]
  },
  {
   "cell_type": "code",
   "execution_count": null,
   "metadata": {
    "id": "ok1EAgJf8Y-M"
   },
   "outputs": [],
   "source": [
    "x = LSTM(40, return_sequences=True,name='lstm_layer')(embedded_sequences)\n",
    "x = GlobalMaxPool1D()(x)\n",
    "x = Dropout(0.1)(x)\n",
    "x = Dense(30, activation=\"relu\", kernel_initializer='he_uniform')(x)\n",
    "x = Dropout(0.1)(x)\n",
    "preds = Dense(6, activation=\"sigmoid\", kernel_initializer='glorot_uniform')(x)"
   ]
  },
  {
   "cell_type": "code",
   "execution_count": null,
   "metadata": {
    "id": "T_J04h_Q8ba3"
   },
   "outputs": [],
   "source": [
    "model_1 = Model(inputs=inp, outputs=preds)\n",
    "model_1.compile(loss='binary_crossentropy',\n",
    "                  optimizer='adam',\n",
    "                  metrics=['accuracy'])"
   ]
  },
  {
   "cell_type": "code",
   "execution_count": null,
   "metadata": {
    "colab": {
     "base_uri": "https://localhost:8080/"
    },
    "id": "wnP2mYv08djj",
    "outputId": "016bcd37-97ba-4778-d9e3-216a4abc640b"
   },
   "outputs": [],
   "source": [
    "model_1.summary()"
   ]
  },
  {
   "cell_type": "code",
   "execution_count": null,
   "metadata": {
    "colab": {
     "base_uri": "https://localhost:8080/"
    },
    "id": "dLPzBx1h8f3s",
    "outputId": "49610794-8683-491f-a00f-3bf3c69d8eeb"
   },
   "outputs": [],
   "source": [
    "model_info_1=model_1.fit(x_tr,y_tr, epochs=2, batch_size=32,  validation_data=(x_val, y_val))"
   ]
  },
  {
   "cell_type": "markdown",
   "metadata": {
    "id": "Be69FRFY8icn"
   },
   "source": [
    "LSTM-CNN"
   ]
  },
  {
   "cell_type": "code",
   "execution_count": null,
   "metadata": {
    "id": "R1WKnX6A8lJH"
   },
   "outputs": [],
   "source": [
    "inp=Input(shape=(maxpadlen, ),dtype='int32')"
   ]
  },
  {
   "cell_type": "code",
   "execution_count": null,
   "metadata": {
    "id": "l0QPyUWA82GH"
   },
   "outputs": [],
   "source": [
    "embedding_layer = Embedding(len(word_index) + 1,\n",
    "                           embed_dim_fasttext,\n",
    "                           weights = [embed_matrix_fasttext],\n",
    "                           input_length = maxpadlen,\n",
    "                           trainable=False,\n",
    "                           name = 'embeddings')\n",
    "embedded_sequences = embedding_layer(inp)"
   ]
  },
  {
   "cell_type": "code",
   "execution_count": null,
   "metadata": {
    "id": "Iuc2V19t85Oj"
   },
   "outputs": [],
   "source": [
    "x = LSTM(50, return_sequences=True,name='lstm_layer')(embedded_sequences)\n",
    "x = Conv1D(filters=64, kernel_size=3, padding='same', activation='relu', kernel_initializer='he_uniform')(x)\n",
    "x = MaxPooling1D(3)(x)\n",
    "x = GlobalMaxPool1D()(x)\n",
    "x = BatchNormalization()(x)\n",
    "x = Dense(40, activation=\"relu\", kernel_initializer='he_uniform')(x)\n",
    "x = Dropout(0.2)(x)\n",
    "x = Dense(30, activation=\"relu\", kernel_initializer='he_uniform')(x)\n",
    "x = Dropout(0.2)(x)\n",
    "preds = Dense(6, activation=\"sigmoid\", kernel_initializer='glorot_uniform')(x)"
   ]
  },
  {
   "cell_type": "code",
   "execution_count": null,
   "metadata": {
    "id": "snfenCO-87oY"
   },
   "outputs": [],
   "source": [
    "model_2 = Model(inputs=inp, outputs=preds)\n",
    "model_2.compile(loss='binary_crossentropy',\n",
    "                  optimizer='adam',\n",
    "                  metrics=['accuracy'])"
   ]
  },
  {
   "cell_type": "code",
   "execution_count": null,
   "metadata": {
    "colab": {
     "base_uri": "https://localhost:8080/"
    },
    "id": "CPvuKbSq89yn",
    "outputId": "622ce66d-04fd-4e2e-b917-d3a495ba25c8"
   },
   "outputs": [],
   "source": [
    "model_2.summary()"
   ]
  },
  {
   "cell_type": "code",
   "execution_count": null,
   "metadata": {
    "colab": {
     "base_uri": "https://localhost:8080/"
    },
    "id": "z3BWUKce9A6x",
    "outputId": "aa2e96a6-58f4-40ee-b01b-c407b4b71865"
   },
   "outputs": [],
   "source": [
    "model_info_2=model_2.fit(x_tr,y_tr, epochs=2, batch_size=32,  validation_data=(x_val, y_val))"
   ]
  },
  {
   "cell_type": "markdown",
   "metadata": {
    "id": "vOI0yTgp9DTa"
   },
   "source": [
    "Plotting Graphs"
   ]
  },
  {
   "cell_type": "markdown",
   "metadata": {
    "id": "iSLNRdEJ9KV9"
   },
   "source": [
    "LSTM"
   ]
  },
  {
   "cell_type": "code",
   "execution_count": null,
   "metadata": {
    "colab": {
     "base_uri": "https://localhost:8080/",
     "height": 1000
    },
    "id": "rvM0hmRt9GqY",
    "outputId": "5eac8a5e-d36c-466a-e0ef-54ddf973c2df"
   },
   "outputs": [],
   "source": [
    "loss = model_info_1.history['loss']\n",
    "val_loss = model_info_1.history['val_loss']\n",
    "\n",
    "epochs = range(1, len(loss)+1)\n",
    "\n",
    "plt.plot(epochs, loss, label='Training loss')\n",
    "plt.plot(epochs, val_loss, label='Validation loss')\n",
    "plt.title('Training and Validation loss')\n",
    "plt.xlabel('Epochs')\n",
    "plt.ylabel('Loss')\n",
    "plt.legend()\n",
    "plt.show();"
   ]
  },
  {
   "cell_type": "code",
   "execution_count": null,
   "metadata": {
    "colab": {
     "base_uri": "https://localhost:8080/",
     "height": 1000
    },
    "id": "K9_SRIBC9JVt",
    "outputId": "2897a331-03e0-4e71-c919-1ea3d488b0c0"
   },
   "outputs": [],
   "source": [
    "accuracy = model_info_1.history['accuracy']\n",
    "val_accuracy = model_info_1.history['val_accuracy']\n",
    "\n",
    "plt.plot(epochs, accuracy, label='Training accuracy')\n",
    "plt.plot(epochs, val_accuracy, label='Validation accuracy')\n",
    "plt.title('Training and validation accuracy')\n",
    "plt.ylabel('Accuracy')\n",
    "plt.xlabel('Epochs')\n",
    "plt.legend()\n",
    "plt.show();"
   ]
  },
  {
   "cell_type": "markdown",
   "metadata": {
    "id": "Cl4vNS1k9KQ3"
   },
   "source": [
    "LSTM-CNN"
   ]
  },
  {
   "cell_type": "code",
   "execution_count": null,
   "metadata": {
    "colab": {
     "base_uri": "https://localhost:8080/",
     "height": 1000
    },
    "id": "nlnSeX0z9UUz",
    "outputId": "2e64fc94-7213-4bf4-c176-256cd853d075"
   },
   "outputs": [],
   "source": [
    "loss = model_info_2.history['loss']\n",
    "val_loss = model_info_2.history['val_loss']\n",
    "\n",
    "epochs = range(1, len(loss)+1)\n",
    "\n",
    "plt.plot(epochs, loss, label='Training loss')\n",
    "plt.plot(epochs, val_loss, label='Validation loss')\n",
    "plt.title('Training and Validation loss')\n",
    "plt.xlabel('Epochs')\n",
    "plt.ylabel('Loss')\n",
    "plt.legend()\n",
    "plt.show();"
   ]
  },
  {
   "cell_type": "code",
   "execution_count": null,
   "metadata": {
    "colab": {
     "base_uri": "https://localhost:8080/",
     "height": 1000
    },
    "id": "iMhEzfYw9WuF",
    "outputId": "d07ab6ff-75fd-4ce8-9783-97e15f5eb8fd"
   },
   "outputs": [],
   "source": [
    "accuracy = model_info_2.history['accuracy']\n",
    "val_accuracy = model_info_2.history['val_accuracy']\n",
    "\n",
    "plt.plot(epochs, accuracy, label='Training accuracy')\n",
    "plt.plot(epochs, val_accuracy, label='Validation accuracy')\n",
    "plt.title('Training and validation accuracy')\n",
    "plt.ylabel('Accuracy')\n",
    "plt.xlabel('Epochs')\n",
    "plt.legend()\n",
    "plt.show();"
   ]
  },
  {
   "cell_type": "markdown",
   "metadata": {
    "id": "V9sr3LoI9ZAs"
   },
   "source": [
    "Saving the model"
   ]
  },
  {
   "cell_type": "code",
   "execution_count": null,
   "metadata": {
    "id": "P8VRQSNw9byS"
   },
   "outputs": [],
   "source": [
    "model_1.save('model1.h5')"
   ]
  },
  {
   "cell_type": "code",
   "execution_count": null,
   "metadata": {
    "id": "GSLOvbdr97A7"
   },
   "outputs": [],
   "source": [
    "model_2.save('model2.h5')"
   ]
  },
  {
   "cell_type": "markdown",
   "metadata": {
    "id": "fqTzkqmj99-a"
   },
   "source": [
    "Loading saved model"
   ]
  },
  {
   "cell_type": "code",
   "execution_count": null,
   "metadata": {
    "id": "2yFK_vIe99XK"
   },
   "outputs": [],
   "source": [
    "loaded_model_1 = keras.models.load_model(filepath=\"/content/model1.h5\")"
   ]
  },
  {
   "cell_type": "code",
   "execution_count": null,
   "metadata": {
    "id": "DGa70_JT99mp"
   },
   "outputs": [],
   "source": [
    "loaded_model_2 = keras.models.load_model(filepath=\"/content/model2.h5\")"
   ]
  },
  {
   "cell_type": "markdown",
   "metadata": {
    "id": "RMCt7zey-J59"
   },
   "source": [
    "Generating the output"
   ]
  },
  {
   "cell_type": "markdown",
   "metadata": {
    "id": "aTZJ9Nux-QTM"
   },
   "source": [
    "LSTM"
   ]
  },
  {
   "cell_type": "code",
   "execution_count": null,
   "metadata": {
    "colab": {
     "base_uri": "https://localhost:8080/"
    },
    "id": "HuHPZE03-I10",
    "outputId": "43f30f26-fd0d-4cda-a786-5c7bf50c6ce5"
   },
   "outputs": [],
   "source": [
    "test_values_1 = loaded_model_1.predict([X_te], batch_size=1, verbose=1)"
   ]
  },
  {
   "cell_type": "code",
   "execution_count": null,
   "metadata": {
    "id": "Ch-7pv-E-T1M"
   },
   "outputs": [],
   "source": [
    "sample_submission = pd.read_csv('C:\\\\Users\\\\Admin\\\\OneDrive\\\\Desktop\\\\Toxic-comments-classification-main\\\\data\\\\test.csv')\n",
    "test_values_1=pd.DataFrame(test_values_1,columns=['toxic', 'severe_toxic', 'obscene', 'threat', 'insult', 'identity_hate'])\n",
    "submission = pd.DataFrame(sample_submission[\"id\"])\n",
    "combined_submission=pd.concat([submission,test_values_1],axis=1)\n",
    "combined_submission.to_csv('C:\\\\Users\\\\Admin\\\\OneDrive\\\\Desktop\\\\Toxic-comments-classification-main\\\\data\\\\Submission_LSTM.csv', index=False)"
   ]
  },
  {
   "cell_type": "markdown",
   "metadata": {
    "id": "bVdPsFZP-V_e"
   },
   "source": [
    "LSTM-CNN"
   ]
  },
  {
   "cell_type": "code",
   "execution_count": null,
   "metadata": {
    "colab": {
     "base_uri": "https://localhost:8080/"
    },
    "id": "Cp5e9pSI-Xej",
    "outputId": "e3df149d-068b-4a2f-c74d-e0a566973b36"
   },
   "outputs": [],
   "source": [
    "test_values_2 = loaded_model_2.predict([X_te], batch_size=1, verbose=1)"
   ]
  },
  {
   "cell_type": "code",
   "execution_count": null,
   "metadata": {
    "id": "Wh9OnW9u-XoD"
   },
   "outputs": [],
   "source": [
    "sample_submission = pd.read_csv('C:\\\\Users\\\\Admin\\\\OneDrive\\\\Desktop\\\\Toxic-comments-classification-main\\\\data\\\\test.csv')\n",
    "test_values_2=pd.DataFrame(test_values_2,columns=['toxic', 'severe_toxic', 'obscene', 'threat', 'insult', 'identity_hate'])\n",
    "submission = pd.DataFrame(sample_submission[\"id\"])\n",
    "combined_submission=pd.concat([submission,test_values_2],axis=1)\n",
    "combined_submission.to_csv('C:\\\\Users\\\\Admin\\\\OneDrive\\\\Desktop\\\\Toxic-comments-classification-main\\\\data\\\\Submission_LSTM.csv', index=False)"
   ]
  },
  {
   "cell_type": "markdown",
   "metadata": {
    "id": "IDqvaoKL-cxG"
   },
   "source": [
    "Testing the created model"
   ]
  },
  {
   "cell_type": "code",
   "execution_count": null,
   "metadata": {
    "id": "MIzPPgO8-f1v"
   },
   "outputs": [],
   "source": [
    "def toxicity_level(string):\n",
    "    new_string = [string]\n",
    "    new_string = tokenizer.texts_to_sequences(new_string)\n",
    "    new_string = pad_sequences(new_string, maxlen=maxpadlen, padding='post')\n",
    "\n",
    "    prediction = model_1.predict(new_string)\n",
    "\n",
    "    print(\"Toxicity levels for '{}':\".format(string))\n",
    "    print('Toxic:         {:.0%}'.format(prediction[0][0]))\n",
    "    print('Severe Toxic:  {:.0%}'.format(prediction[0][1]))\n",
    "    print('Obscene:       {:.0%}'.format(prediction[0][2]))\n",
    "    print('Threat:        {:.0%}'.format(prediction[0][3]))\n",
    "    print('Insult:        {:.0%}'.format(prediction[0][4]))\n",
    "    print('Identity Hate: {:.0%}'.format(prediction[0][5]))\n",
    "    print()\n",
    "\n",
    "    return"
   ]
  },
  {
   "cell_type": "code",
   "execution_count": null,
   "metadata": {
    "colab": {
     "base_uri": "https://localhost:8080/"
    },
    "id": "vSqt_wEm-gCV",
    "outputId": "f8259397-d3e4-4338-ae7e-65bedcf45401"
   },
   "outputs": [],
   "source": [
    "toxicity_level('go jump off a bridge jerk')"
   ]
  },
  {
   "cell_type": "code",
   "execution_count": null,
   "metadata": {
    "colab": {
     "base_uri": "https://localhost:8080/"
    },
    "id": "xvEHO5av-gJk",
    "outputId": "46a6bc98-1aaf-486f-b149-c861e3f02f10"
   },
   "outputs": [],
   "source": [
    "toxicity_level('i will kill you')"
   ]
  },
  {
   "cell_type": "code",
   "execution_count": null,
   "metadata": {
    "id": "z1hk2TD1OZVr"
   },
   "outputs": [],
   "source": [
    "def toxicity_level_2(string):\n",
    "    new_string = [string]\n",
    "    new_string = tokenizer.texts_to_sequences(new_string)\n",
    "    new_string = pad_sequences(new_string, maxlen=maxpadlen, padding='post')\n",
    "\n",
    "    prediction = model_2.predict(new_string)\n",
    "\n",
    "    print(\"Toxicity levels for '{}':\".format(string))\n",
    "    print('Toxic:         {:.0%}'.format(prediction[0][0]))\n",
    "    print('Severe Toxic:  {:.0%}'.format(prediction[0][1]))\n",
    "    print('Obscene:       {:.0%}'.format(prediction[0][2]))\n",
    "    print('Threat:        {:.0%}'.format(prediction[0][3]))\n",
    "    print('Insult:        {:.0%}'.format(prediction[0][4]))\n",
    "    print('Identity Hate: {:.0%}'.format(prediction[0][5]))\n",
    "    print()\n",
    "\n",
    "    return"
   ]
  },
  {
   "cell_type": "code",
   "execution_count": null,
   "metadata": {
    "colab": {
     "base_uri": "https://localhost:8080/"
    },
    "id": "3Fzxm0QVOgVI",
    "outputId": "f8a92c2c-f82e-496c-bd01-93475407bb18"
   },
   "outputs": [],
   "source": [
    "toxicity_level_2('go jump off a bridge jerk')"
   ]
  },
  {
   "cell_type": "code",
   "execution_count": null,
   "metadata": {
    "colab": {
     "base_uri": "https://localhost:8080/"
    },
    "id": "B8etnSNaOnER",
    "outputId": "f1b577c1-e4d9-4ae8-b648-3ec987949d44"
   },
   "outputs": [],
   "source": [
    "toxicity_level_2('have a nice day')"
   ]
  },
  {
   "cell_type": "code",
   "execution_count": null,
   "metadata": {
    "colab": {
     "base_uri": "https://localhost:8080/"
    },
    "id": "dqVKimLCPInN",
    "outputId": "721f509f-cf94-4a20-cb16-343b8a752167"
   },
   "outputs": [],
   "source": [
    "toxicity_level_2('fuck ofF!!')"
   ]
  },
  {
   "cell_type": "code",
   "execution_count": null,
   "metadata": {
    "colab": {
     "base_uri": "https://localhost:8080/"
    },
    "id": "XoQu3vmbPlfe",
    "outputId": "438f8cb9-2803-4ff0-d3d4-06b71f286177"
   },
   "outputs": [],
   "source": [
    "toxicity_level_2('get the fuck away from me @sshole!!')"
   ]
  },
  {
   "cell_type": "code",
   "execution_count": null,
   "metadata": {
    "colab": {
     "base_uri": "https://localhost:8080/"
    },
    "id": "MQKXLJc-QcDN",
    "outputId": "abe35900-8c2e-4df1-ea69-b2881f36a1ad"
   },
   "outputs": [],
   "source": [
    "toxicity_level_2('Hello, How are you?')"
   ]
  },
  {
   "cell_type": "code",
   "execution_count": null,
   "metadata": {},
   "outputs": [],
   "source": [
    "string=input(\"enter speech\")\n",
    "print(toxicity_level_2(string))"
   ]
  },
  {
   "cell_type": "code",
   "execution_count": null,
   "metadata": {
    "colab": {
     "base_uri": "https://localhost:8080/"
    },
    "id": "DoQDlCsVorVJ",
    "outputId": "1b7e04da-1a45-48a6-eaa5-1b26dd7ae815"
   },
   "outputs": [],
   "source": [
    "toxicity_level('fuck ofF!!')"
   ]
  },
  {
   "cell_type": "code",
   "execution_count": null,
   "metadata": {
    "colab": {
     "base_uri": "https://localhost:8080/"
    },
    "id": "NNWJAdkdotlO",
    "outputId": "2bd34b4b-96d9-4dc0-a821-b2caa389fd2b"
   },
   "outputs": [],
   "source": [
    "toxicity_level('get the fuck away from me @sshole!!')"
   ]
  },
  {
   "cell_type": "code",
   "execution_count": null,
   "metadata": {
    "colab": {
     "base_uri": "https://localhost:8080/"
    },
    "id": "mDLw9tLroxfi",
    "outputId": "4643a1aa-58b3-412e-b812-9834f6431c9b"
   },
   "outputs": [],
   "source": [
    "toxicity_level('Hello, How are you?')"
   ]
  },
  {
   "cell_type": "code",
   "execution_count": null,
   "metadata": {},
   "outputs": [],
   "source": [
    "toxicity_level('fuck!')"
   ]
  },
  {
   "cell_type": "code",
   "execution_count": null,
   "metadata": {},
   "outputs": [],
   "source": [
    "toxicity_level(\"look here\")"
   ]
  },
  {
   "cell_type": "code",
   "execution_count": null,
   "metadata": {},
   "outputs": [],
   "source": [
    "toxicity_level(\"good morning\")"
   ]
  },
  {
   "cell_type": "code",
   "execution_count": null,
   "metadata": {},
   "outputs": [],
   "source": [
    "toxicity_level('Hello, How are you?')"
   ]
  },
  {
   "cell_type": "code",
   "execution_count": null,
   "metadata": {},
   "outputs": [],
   "source": [
    "toxicity_level('Hello have a nice day')"
   ]
  },
  {
   "cell_type": "code",
   "execution_count": 120,
   "metadata": {},
   "outputs": [
    {
     "name": "stdout",
     "output_type": "stream",
     "text": [
      "\u001b[1m1/1\u001b[0m \u001b[32m━━━━━━━━━━━━━━━━━━━━\u001b[0m\u001b[37m\u001b[0m \u001b[1m0s\u001b[0m 32ms/step\n",
      "Toxicity levels for 'hello':\n",
      "Toxic:         2%\n",
      "Severe Toxic:  0%\n",
      "Obscene:       0%\n",
      "Threat:        0%\n",
      "Insult:        0%\n",
      "Identity Hate: 0%\n",
      "\n",
      "None\n"
     ]
    }
   ],
   "source": [
    "string=input(\"enter speech\")\n",
    "print(toxicity_level_2(string))"
   ]
  },
  {
   "cell_type": "code",
   "execution_count": 121,
   "metadata": {},
   "outputs": [
    {
     "name": "stdout",
     "output_type": "stream",
     "text": [
      "\u001b[1m1/1\u001b[0m \u001b[32m━━━━━━━━━━━━━━━━━━━━\u001b[0m\u001b[37m\u001b[0m \u001b[1m0s\u001b[0m 35ms/step\n",
      "Toxicity levels for 'good morning':\n",
      "Toxic:         1%\n",
      "Severe Toxic:  0%\n",
      "Obscene:       0%\n",
      "Threat:        0%\n",
      "Insult:        0%\n",
      "Identity Hate: 0%\n",
      "\n",
      "None\n"
     ]
    }
   ],
   "source": [
    "string=input(\"enter speech\")\n",
    "print(toxicity_level(string))"
   ]
  }
 ],
 "metadata": {
  "accelerator": "GPU",
  "colab": {
   "gpuType": "A100",
   "machine_shape": "hm",
   "provenance": []
  },
  "gpuClass": "standard",
  "kernelspec": {
   "display_name": "Python 3 (ipykernel)",
   "language": "python",
   "name": "python3"
  },
  "language_info": {
   "codemirror_mode": {
    "name": "ipython",
    "version": 3
   },
   "file_extension": ".py",
   "mimetype": "text/x-python",
   "name": "python",
   "nbconvert_exporter": "python",
   "pygments_lexer": "ipython3",
   "version": "3.12.4"
  },
  "widgets": {
   "application/vnd.jupyter.widget-state+json": {
    "04114b1ba4b14e7d804144d4e0aa5947": {
     "model_module": "@jupyter-widgets/base",
     "model_module_version": "1.2.0",
     "model_name": "LayoutModel",
     "state": {
      "_model_module": "@jupyter-widgets/base",
      "_model_module_version": "1.2.0",
      "_model_name": "LayoutModel",
      "_view_count": null,
      "_view_module": "@jupyter-widgets/base",
      "_view_module_version": "1.2.0",
      "_view_name": "LayoutView",
      "align_content": null,
      "align_items": null,
      "align_self": null,
      "border": null,
      "bottom": null,
      "display": null,
      "flex": null,
      "flex_flow": null,
      "grid_area": null,
      "grid_auto_columns": null,
      "grid_auto_flow": null,
      "grid_auto_rows": null,
      "grid_column": null,
      "grid_gap": null,
      "grid_row": null,
      "grid_template_areas": null,
      "grid_template_columns": null,
      "grid_template_rows": null,
      "height": null,
      "justify_content": null,
      "justify_items": null,
      "left": null,
      "margin": null,
      "max_height": null,
      "max_width": null,
      "min_height": null,
      "min_width": null,
      "object_fit": null,
      "object_position": null,
      "order": null,
      "overflow": null,
      "overflow_x": null,
      "overflow_y": null,
      "padding": null,
      "right": null,
      "top": null,
      "visibility": null,
      "width": null
     }
    },
    "23a9ce7b1df54593b5dd05ce4059e710": {
     "model_module": "@jupyter-widgets/controls",
     "model_module_version": "1.5.0",
     "model_name": "FloatProgressModel",
     "state": {
      "_dom_classes": [],
      "_model_module": "@jupyter-widgets/controls",
      "_model_module_version": "1.5.0",
      "_model_name": "FloatProgressModel",
      "_view_count": null,
      "_view_module": "@jupyter-widgets/controls",
      "_view_module_version": "1.5.0",
      "_view_name": "ProgressView",
      "bar_style": "success",
      "description": "",
      "description_tooltip": null,
      "layout": "IPY_MODEL_99f3fb2fa1214229b987d666d89ff4f3",
      "max": 153164,
      "min": 0,
      "orientation": "horizontal",
      "style": "IPY_MODEL_b5e3c4fc694c475c9c85574539695f1c",
      "value": 153164
     }
    },
    "28c988e245214dc38250023e209c1376": {
     "model_module": "@jupyter-widgets/base",
     "model_module_version": "1.2.0",
     "model_name": "LayoutModel",
     "state": {
      "_model_module": "@jupyter-widgets/base",
      "_model_module_version": "1.2.0",
      "_model_name": "LayoutModel",
      "_view_count": null,
      "_view_module": "@jupyter-widgets/base",
      "_view_module_version": "1.2.0",
      "_view_name": "LayoutView",
      "align_content": null,
      "align_items": null,
      "align_self": null,
      "border": null,
      "bottom": null,
      "display": null,
      "flex": null,
      "flex_flow": null,
      "grid_area": null,
      "grid_auto_columns": null,
      "grid_auto_flow": null,
      "grid_auto_rows": null,
      "grid_column": null,
      "grid_gap": null,
      "grid_row": null,
      "grid_template_areas": null,
      "grid_template_columns": null,
      "grid_template_rows": null,
      "height": null,
      "justify_content": null,
      "justify_items": null,
      "left": null,
      "margin": null,
      "max_height": null,
      "max_width": null,
      "min_height": null,
      "min_width": null,
      "object_fit": null,
      "object_position": null,
      "order": null,
      "overflow": null,
      "overflow_x": null,
      "overflow_y": null,
      "padding": null,
      "right": null,
      "top": null,
      "visibility": null,
      "width": null
     }
    },
    "2c3e98caa9b643679b5c49fec76772c7": {
     "model_module": "@jupyter-widgets/controls",
     "model_module_version": "1.5.0",
     "model_name": "DescriptionStyleModel",
     "state": {
      "_model_module": "@jupyter-widgets/controls",
      "_model_module_version": "1.5.0",
      "_model_name": "DescriptionStyleModel",
      "_view_count": null,
      "_view_module": "@jupyter-widgets/base",
      "_view_module_version": "1.2.0",
      "_view_name": "StyleView",
      "description_width": ""
     }
    },
    "2e545babc99d4760a538bb68148be1e4": {
     "model_module": "@jupyter-widgets/controls",
     "model_module_version": "1.5.0",
     "model_name": "ProgressStyleModel",
     "state": {
      "_model_module": "@jupyter-widgets/controls",
      "_model_module_version": "1.5.0",
      "_model_name": "ProgressStyleModel",
      "_view_count": null,
      "_view_module": "@jupyter-widgets/base",
      "_view_module_version": "1.2.0",
      "_view_name": "StyleView",
      "bar_color": null,
      "description_width": ""
     }
    },
    "317649c0455d4460978e8a44ef8b3af3": {
     "model_module": "@jupyter-widgets/controls",
     "model_module_version": "1.5.0",
     "model_name": "HBoxModel",
     "state": {
      "_dom_classes": [],
      "_model_module": "@jupyter-widgets/controls",
      "_model_module_version": "1.5.0",
      "_model_name": "HBoxModel",
      "_view_count": null,
      "_view_module": "@jupyter-widgets/controls",
      "_view_module_version": "1.5.0",
      "_view_name": "HBoxView",
      "box_style": "",
      "children": [
       "IPY_MODEL_df98ac59d5d848e687fa5e9468af37d8",
       "IPY_MODEL_efdb1473add24b2d86adbffc3fb2f9aa",
       "IPY_MODEL_89c25bc7e4c84f59aeafa76c68ec459a"
      ],
      "layout": "IPY_MODEL_28c988e245214dc38250023e209c1376"
     }
    },
    "32d09debb4024a9c8b990adf9b797788": {
     "model_module": "@jupyter-widgets/base",
     "model_module_version": "1.2.0",
     "model_name": "LayoutModel",
     "state": {
      "_model_module": "@jupyter-widgets/base",
      "_model_module_version": "1.2.0",
      "_model_name": "LayoutModel",
      "_view_count": null,
      "_view_module": "@jupyter-widgets/base",
      "_view_module_version": "1.2.0",
      "_view_name": "LayoutView",
      "align_content": null,
      "align_items": null,
      "align_self": null,
      "border": null,
      "bottom": null,
      "display": null,
      "flex": null,
      "flex_flow": null,
      "grid_area": null,
      "grid_auto_columns": null,
      "grid_auto_flow": null,
      "grid_auto_rows": null,
      "grid_column": null,
      "grid_gap": null,
      "grid_row": null,
      "grid_template_areas": null,
      "grid_template_columns": null,
      "grid_template_rows": null,
      "height": null,
      "justify_content": null,
      "justify_items": null,
      "left": null,
      "margin": null,
      "max_height": null,
      "max_width": null,
      "min_height": null,
      "min_width": null,
      "object_fit": null,
      "object_position": null,
      "order": null,
      "overflow": null,
      "overflow_x": null,
      "overflow_y": null,
      "padding": null,
      "right": null,
      "top": null,
      "visibility": null,
      "width": null
     }
    },
    "3687ca7784184b8ea023c14ef145cfe9": {
     "model_module": "@jupyter-widgets/base",
     "model_module_version": "1.2.0",
     "model_name": "LayoutModel",
     "state": {
      "_model_module": "@jupyter-widgets/base",
      "_model_module_version": "1.2.0",
      "_model_name": "LayoutModel",
      "_view_count": null,
      "_view_module": "@jupyter-widgets/base",
      "_view_module_version": "1.2.0",
      "_view_name": "LayoutView",
      "align_content": null,
      "align_items": null,
      "align_self": null,
      "border": null,
      "bottom": null,
      "display": null,
      "flex": null,
      "flex_flow": null,
      "grid_area": null,
      "grid_auto_columns": null,
      "grid_auto_flow": null,
      "grid_auto_rows": null,
      "grid_column": null,
      "grid_gap": null,
      "grid_row": null,
      "grid_template_areas": null,
      "grid_template_columns": null,
      "grid_template_rows": null,
      "height": null,
      "justify_content": null,
      "justify_items": null,
      "left": null,
      "margin": null,
      "max_height": null,
      "max_width": null,
      "min_height": null,
      "min_width": null,
      "object_fit": null,
      "object_position": null,
      "order": null,
      "overflow": null,
      "overflow_x": null,
      "overflow_y": null,
      "padding": null,
      "right": null,
      "top": null,
      "visibility": null,
      "width": null
     }
    },
    "3987a80fb94d406d8a13d307bdaff8e7": {
     "model_module": "@jupyter-widgets/controls",
     "model_module_version": "1.5.0",
     "model_name": "HTMLModel",
     "state": {
      "_dom_classes": [],
      "_model_module": "@jupyter-widgets/controls",
      "_model_module_version": "1.5.0",
      "_model_name": "HTMLModel",
      "_view_count": null,
      "_view_module": "@jupyter-widgets/controls",
      "_view_module_version": "1.5.0",
      "_view_name": "HTMLView",
      "description": "",
      "description_tooltip": null,
      "layout": "IPY_MODEL_759d349e13194231bb28fd6d58c03a77",
      "placeholder": "​",
      "style": "IPY_MODEL_83e2cc59a4f6446ebc0c4780e3d43135",
      "value": " 159571/159571 [00:02&lt;00:00, 66672.12it/s]"
     }
    },
    "3b82410f4be74967b1f9ec2e90003bf5": {
     "model_module": "@jupyter-widgets/controls",
     "model_module_version": "1.5.0",
     "model_name": "HTMLModel",
     "state": {
      "_dom_classes": [],
      "_model_module": "@jupyter-widgets/controls",
      "_model_module_version": "1.5.0",
      "_model_name": "HTMLModel",
      "_view_count": null,
      "_view_module": "@jupyter-widgets/controls",
      "_view_module_version": "1.5.0",
      "_view_name": "HTMLView",
      "description": "",
      "description_tooltip": null,
      "layout": "IPY_MODEL_f774bb423c0e4104b244ec43756b5824",
      "placeholder": "​",
      "style": "IPY_MODEL_4d2caf48d94c47bd9d9bc434fa473528",
      "value": "100%"
     }
    },
    "460201bfd90d45ae917c46c036a2ff81": {
     "model_module": "@jupyter-widgets/controls",
     "model_module_version": "1.5.0",
     "model_name": "HBoxModel",
     "state": {
      "_dom_classes": [],
      "_model_module": "@jupyter-widgets/controls",
      "_model_module_version": "1.5.0",
      "_model_name": "HBoxModel",
      "_view_count": null,
      "_view_module": "@jupyter-widgets/controls",
      "_view_module_version": "1.5.0",
      "_view_name": "HBoxView",
      "box_style": "",
      "children": [
       "IPY_MODEL_81e28fccd2ff4227a23721d7e662499e",
       "IPY_MODEL_75d5a445244d4b87bc6d3e8fbfa6d942",
       "IPY_MODEL_58bae91dc17e4d4e9e72a3cd3945e492"
      ],
      "layout": "IPY_MODEL_985b07dbc9a74374927bd80f8f749bcf"
     }
    },
    "467abca78cd04e82984e9dcaa1f33247": {
     "model_module": "@jupyter-widgets/controls",
     "model_module_version": "1.5.0",
     "model_name": "HBoxModel",
     "state": {
      "_dom_classes": [],
      "_model_module": "@jupyter-widgets/controls",
      "_model_module_version": "1.5.0",
      "_model_name": "HBoxModel",
      "_view_count": null,
      "_view_module": "@jupyter-widgets/controls",
      "_view_module_version": "1.5.0",
      "_view_name": "HBoxView",
      "box_style": "",
      "children": [
       "IPY_MODEL_3b82410f4be74967b1f9ec2e90003bf5",
       "IPY_MODEL_cdf2fc66e1b84515ad80942eda775bdd",
       "IPY_MODEL_3987a80fb94d406d8a13d307bdaff8e7"
      ],
      "layout": "IPY_MODEL_bc23d0c042fa44aeb01a7ee63c5c01a4"
     }
    },
    "4d2caf48d94c47bd9d9bc434fa473528": {
     "model_module": "@jupyter-widgets/controls",
     "model_module_version": "1.5.0",
     "model_name": "DescriptionStyleModel",
     "state": {
      "_model_module": "@jupyter-widgets/controls",
      "_model_module_version": "1.5.0",
      "_model_name": "DescriptionStyleModel",
      "_view_count": null,
      "_view_module": "@jupyter-widgets/base",
      "_view_module_version": "1.2.0",
      "_view_name": "StyleView",
      "description_width": ""
     }
    },
    "569e22f2df2348378712c7d8075f67b6": {
     "model_module": "@jupyter-widgets/base",
     "model_module_version": "1.2.0",
     "model_name": "LayoutModel",
     "state": {
      "_model_module": "@jupyter-widgets/base",
      "_model_module_version": "1.2.0",
      "_model_name": "LayoutModel",
      "_view_count": null,
      "_view_module": "@jupyter-widgets/base",
      "_view_module_version": "1.2.0",
      "_view_name": "LayoutView",
      "align_content": null,
      "align_items": null,
      "align_self": null,
      "border": null,
      "bottom": null,
      "display": null,
      "flex": null,
      "flex_flow": null,
      "grid_area": null,
      "grid_auto_columns": null,
      "grid_auto_flow": null,
      "grid_auto_rows": null,
      "grid_column": null,
      "grid_gap": null,
      "grid_row": null,
      "grid_template_areas": null,
      "grid_template_columns": null,
      "grid_template_rows": null,
      "height": null,
      "justify_content": null,
      "justify_items": null,
      "left": null,
      "margin": null,
      "max_height": null,
      "max_width": null,
      "min_height": null,
      "min_width": null,
      "object_fit": null,
      "object_position": null,
      "order": null,
      "overflow": null,
      "overflow_x": null,
      "overflow_y": null,
      "padding": null,
      "right": null,
      "top": null,
      "visibility": null,
      "width": null
     }
    },
    "58bae91dc17e4d4e9e72a3cd3945e492": {
     "model_module": "@jupyter-widgets/controls",
     "model_module_version": "1.5.0",
     "model_name": "HTMLModel",
     "state": {
      "_dom_classes": [],
      "_model_module": "@jupyter-widgets/controls",
      "_model_module_version": "1.5.0",
      "_model_name": "HTMLModel",
      "_view_count": null,
      "_view_module": "@jupyter-widgets/controls",
      "_view_module_version": "1.5.0",
      "_view_name": "HTMLView",
      "description": "",
      "description_tooltip": null,
      "layout": "IPY_MODEL_d505c3c947d143d4b98dba7c57ddc9a9",
      "placeholder": "​",
      "style": "IPY_MODEL_f058b453caf6435b890b5493838b5754",
      "value": " 159571/159571 [01:58&lt;00:00, 1292.15it/s]"
     }
    },
    "6de1242b53d2485fac11fccb56101e1f": {
     "model_module": "@jupyter-widgets/controls",
     "model_module_version": "1.5.0",
     "model_name": "ProgressStyleModel",
     "state": {
      "_model_module": "@jupyter-widgets/controls",
      "_model_module_version": "1.5.0",
      "_model_name": "ProgressStyleModel",
      "_view_count": null,
      "_view_module": "@jupyter-widgets/base",
      "_view_module_version": "1.2.0",
      "_view_name": "StyleView",
      "bar_color": null,
      "description_width": ""
     }
    },
    "759d349e13194231bb28fd6d58c03a77": {
     "model_module": "@jupyter-widgets/base",
     "model_module_version": "1.2.0",
     "model_name": "LayoutModel",
     "state": {
      "_model_module": "@jupyter-widgets/base",
      "_model_module_version": "1.2.0",
      "_model_name": "LayoutModel",
      "_view_count": null,
      "_view_module": "@jupyter-widgets/base",
      "_view_module_version": "1.2.0",
      "_view_name": "LayoutView",
      "align_content": null,
      "align_items": null,
      "align_self": null,
      "border": null,
      "bottom": null,
      "display": null,
      "flex": null,
      "flex_flow": null,
      "grid_area": null,
      "grid_auto_columns": null,
      "grid_auto_flow": null,
      "grid_auto_rows": null,
      "grid_column": null,
      "grid_gap": null,
      "grid_row": null,
      "grid_template_areas": null,
      "grid_template_columns": null,
      "grid_template_rows": null,
      "height": null,
      "justify_content": null,
      "justify_items": null,
      "left": null,
      "margin": null,
      "max_height": null,
      "max_width": null,
      "min_height": null,
      "min_width": null,
      "object_fit": null,
      "object_position": null,
      "order": null,
      "overflow": null,
      "overflow_x": null,
      "overflow_y": null,
      "padding": null,
      "right": null,
      "top": null,
      "visibility": null,
      "width": null
     }
    },
    "75d5a445244d4b87bc6d3e8fbfa6d942": {
     "model_module": "@jupyter-widgets/controls",
     "model_module_version": "1.5.0",
     "model_name": "FloatProgressModel",
     "state": {
      "_dom_classes": [],
      "_model_module": "@jupyter-widgets/controls",
      "_model_module_version": "1.5.0",
      "_model_name": "FloatProgressModel",
      "_view_count": null,
      "_view_module": "@jupyter-widgets/controls",
      "_view_module_version": "1.5.0",
      "_view_name": "ProgressView",
      "bar_style": "success",
      "description": "",
      "description_tooltip": null,
      "layout": "IPY_MODEL_569e22f2df2348378712c7d8075f67b6",
      "max": 159571,
      "min": 0,
      "orientation": "horizontal",
      "style": "IPY_MODEL_c1c8a909a3b64935944ed68dd4038455",
      "value": 159571
     }
    },
    "81e28fccd2ff4227a23721d7e662499e": {
     "model_module": "@jupyter-widgets/controls",
     "model_module_version": "1.5.0",
     "model_name": "HTMLModel",
     "state": {
      "_dom_classes": [],
      "_model_module": "@jupyter-widgets/controls",
      "_model_module_version": "1.5.0",
      "_model_name": "HTMLModel",
      "_view_count": null,
      "_view_module": "@jupyter-widgets/controls",
      "_view_module_version": "1.5.0",
      "_view_name": "HTMLView",
      "description": "",
      "description_tooltip": null,
      "layout": "IPY_MODEL_3687ca7784184b8ea023c14ef145cfe9",
      "placeholder": "​",
      "style": "IPY_MODEL_e7de5c0dcda54a3ca3bdcd314504eae4",
      "value": "100%"
     }
    },
    "83e2cc59a4f6446ebc0c4780e3d43135": {
     "model_module": "@jupyter-widgets/controls",
     "model_module_version": "1.5.0",
     "model_name": "DescriptionStyleModel",
     "state": {
      "_model_module": "@jupyter-widgets/controls",
      "_model_module_version": "1.5.0",
      "_model_name": "DescriptionStyleModel",
      "_view_count": null,
      "_view_module": "@jupyter-widgets/base",
      "_view_module_version": "1.2.0",
      "_view_name": "StyleView",
      "description_width": ""
     }
    },
    "85d32495476f40a48326394b758a7a4f": {
     "model_module": "@jupyter-widgets/base",
     "model_module_version": "1.2.0",
     "model_name": "LayoutModel",
     "state": {
      "_model_module": "@jupyter-widgets/base",
      "_model_module_version": "1.2.0",
      "_model_name": "LayoutModel",
      "_view_count": null,
      "_view_module": "@jupyter-widgets/base",
      "_view_module_version": "1.2.0",
      "_view_name": "LayoutView",
      "align_content": null,
      "align_items": null,
      "align_self": null,
      "border": null,
      "bottom": null,
      "display": null,
      "flex": null,
      "flex_flow": null,
      "grid_area": null,
      "grid_auto_columns": null,
      "grid_auto_flow": null,
      "grid_auto_rows": null,
      "grid_column": null,
      "grid_gap": null,
      "grid_row": null,
      "grid_template_areas": null,
      "grid_template_columns": null,
      "grid_template_rows": null,
      "height": null,
      "justify_content": null,
      "justify_items": null,
      "left": null,
      "margin": null,
      "max_height": null,
      "max_width": null,
      "min_height": null,
      "min_width": null,
      "object_fit": null,
      "object_position": null,
      "order": null,
      "overflow": null,
      "overflow_x": null,
      "overflow_y": null,
      "padding": null,
      "right": null,
      "top": null,
      "visibility": null,
      "width": null
     }
    },
    "89c25bc7e4c84f59aeafa76c68ec459a": {
     "model_module": "@jupyter-widgets/controls",
     "model_module_version": "1.5.0",
     "model_name": "HTMLModel",
     "state": {
      "_dom_classes": [],
      "_model_module": "@jupyter-widgets/controls",
      "_model_module_version": "1.5.0",
      "_model_name": "HTMLModel",
      "_view_count": null,
      "_view_module": "@jupyter-widgets/controls",
      "_view_module_version": "1.5.0",
      "_view_name": "HTMLView",
      "description": "",
      "description_tooltip": null,
      "layout": "IPY_MODEL_dda8d05e3fb94beca1dae74215625b9e",
      "placeholder": "​",
      "style": "IPY_MODEL_c92982ba20154ac08bbf8991e178be7a",
      "value": " 153164/153164 [01:43&lt;00:00, 1265.78it/s]"
     }
    },
    "961f2eb1845d4daf90a4769eaffeb136": {
     "model_module": "@jupyter-widgets/controls",
     "model_module_version": "1.5.0",
     "model_name": "HTMLModel",
     "state": {
      "_dom_classes": [],
      "_model_module": "@jupyter-widgets/controls",
      "_model_module_version": "1.5.0",
      "_model_name": "HTMLModel",
      "_view_count": null,
      "_view_module": "@jupyter-widgets/controls",
      "_view_module_version": "1.5.0",
      "_view_name": "HTMLView",
      "description": "",
      "description_tooltip": null,
      "layout": "IPY_MODEL_32d09debb4024a9c8b990adf9b797788",
      "placeholder": "​",
      "style": "IPY_MODEL_2c3e98caa9b643679b5c49fec76772c7",
      "value": " 153164/153164 [00:02&lt;00:00, 71608.06it/s]"
     }
    },
    "985b07dbc9a74374927bd80f8f749bcf": {
     "model_module": "@jupyter-widgets/base",
     "model_module_version": "1.2.0",
     "model_name": "LayoutModel",
     "state": {
      "_model_module": "@jupyter-widgets/base",
      "_model_module_version": "1.2.0",
      "_model_name": "LayoutModel",
      "_view_count": null,
      "_view_module": "@jupyter-widgets/base",
      "_view_module_version": "1.2.0",
      "_view_name": "LayoutView",
      "align_content": null,
      "align_items": null,
      "align_self": null,
      "border": null,
      "bottom": null,
      "display": null,
      "flex": null,
      "flex_flow": null,
      "grid_area": null,
      "grid_auto_columns": null,
      "grid_auto_flow": null,
      "grid_auto_rows": null,
      "grid_column": null,
      "grid_gap": null,
      "grid_row": null,
      "grid_template_areas": null,
      "grid_template_columns": null,
      "grid_template_rows": null,
      "height": null,
      "justify_content": null,
      "justify_items": null,
      "left": null,
      "margin": null,
      "max_height": null,
      "max_width": null,
      "min_height": null,
      "min_width": null,
      "object_fit": null,
      "object_position": null,
      "order": null,
      "overflow": null,
      "overflow_x": null,
      "overflow_y": null,
      "padding": null,
      "right": null,
      "top": null,
      "visibility": null,
      "width": null
     }
    },
    "99f3fb2fa1214229b987d666d89ff4f3": {
     "model_module": "@jupyter-widgets/base",
     "model_module_version": "1.2.0",
     "model_name": "LayoutModel",
     "state": {
      "_model_module": "@jupyter-widgets/base",
      "_model_module_version": "1.2.0",
      "_model_name": "LayoutModel",
      "_view_count": null,
      "_view_module": "@jupyter-widgets/base",
      "_view_module_version": "1.2.0",
      "_view_name": "LayoutView",
      "align_content": null,
      "align_items": null,
      "align_self": null,
      "border": null,
      "bottom": null,
      "display": null,
      "flex": null,
      "flex_flow": null,
      "grid_area": null,
      "grid_auto_columns": null,
      "grid_auto_flow": null,
      "grid_auto_rows": null,
      "grid_column": null,
      "grid_gap": null,
      "grid_row": null,
      "grid_template_areas": null,
      "grid_template_columns": null,
      "grid_template_rows": null,
      "height": null,
      "justify_content": null,
      "justify_items": null,
      "left": null,
      "margin": null,
      "max_height": null,
      "max_width": null,
      "min_height": null,
      "min_width": null,
      "object_fit": null,
      "object_position": null,
      "order": null,
      "overflow": null,
      "overflow_x": null,
      "overflow_y": null,
      "padding": null,
      "right": null,
      "top": null,
      "visibility": null,
      "width": null
     }
    },
    "af262290b56c49b9ae5a6162f3c0af8b": {
     "model_module": "@jupyter-widgets/controls",
     "model_module_version": "1.5.0",
     "model_name": "HBoxModel",
     "state": {
      "_dom_classes": [],
      "_model_module": "@jupyter-widgets/controls",
      "_model_module_version": "1.5.0",
      "_model_name": "HBoxModel",
      "_view_count": null,
      "_view_module": "@jupyter-widgets/controls",
      "_view_module_version": "1.5.0",
      "_view_name": "HBoxView",
      "box_style": "",
      "children": [
       "IPY_MODEL_d5ca752c0ca94ababd378ecc4231769a",
       "IPY_MODEL_23a9ce7b1df54593b5dd05ce4059e710",
       "IPY_MODEL_961f2eb1845d4daf90a4769eaffeb136"
      ],
      "layout": "IPY_MODEL_bc2e14df08a247e7be7d23bfe5525888"
     }
    },
    "b5e3c4fc694c475c9c85574539695f1c": {
     "model_module": "@jupyter-widgets/controls",
     "model_module_version": "1.5.0",
     "model_name": "ProgressStyleModel",
     "state": {
      "_model_module": "@jupyter-widgets/controls",
      "_model_module_version": "1.5.0",
      "_model_name": "ProgressStyleModel",
      "_view_count": null,
      "_view_module": "@jupyter-widgets/base",
      "_view_module_version": "1.2.0",
      "_view_name": "StyleView",
      "bar_color": null,
      "description_width": ""
     }
    },
    "bc23d0c042fa44aeb01a7ee63c5c01a4": {
     "model_module": "@jupyter-widgets/base",
     "model_module_version": "1.2.0",
     "model_name": "LayoutModel",
     "state": {
      "_model_module": "@jupyter-widgets/base",
      "_model_module_version": "1.2.0",
      "_model_name": "LayoutModel",
      "_view_count": null,
      "_view_module": "@jupyter-widgets/base",
      "_view_module_version": "1.2.0",
      "_view_name": "LayoutView",
      "align_content": null,
      "align_items": null,
      "align_self": null,
      "border": null,
      "bottom": null,
      "display": null,
      "flex": null,
      "flex_flow": null,
      "grid_area": null,
      "grid_auto_columns": null,
      "grid_auto_flow": null,
      "grid_auto_rows": null,
      "grid_column": null,
      "grid_gap": null,
      "grid_row": null,
      "grid_template_areas": null,
      "grid_template_columns": null,
      "grid_template_rows": null,
      "height": null,
      "justify_content": null,
      "justify_items": null,
      "left": null,
      "margin": null,
      "max_height": null,
      "max_width": null,
      "min_height": null,
      "min_width": null,
      "object_fit": null,
      "object_position": null,
      "order": null,
      "overflow": null,
      "overflow_x": null,
      "overflow_y": null,
      "padding": null,
      "right": null,
      "top": null,
      "visibility": null,
      "width": null
     }
    },
    "bc2e14df08a247e7be7d23bfe5525888": {
     "model_module": "@jupyter-widgets/base",
     "model_module_version": "1.2.0",
     "model_name": "LayoutModel",
     "state": {
      "_model_module": "@jupyter-widgets/base",
      "_model_module_version": "1.2.0",
      "_model_name": "LayoutModel",
      "_view_count": null,
      "_view_module": "@jupyter-widgets/base",
      "_view_module_version": "1.2.0",
      "_view_name": "LayoutView",
      "align_content": null,
      "align_items": null,
      "align_self": null,
      "border": null,
      "bottom": null,
      "display": null,
      "flex": null,
      "flex_flow": null,
      "grid_area": null,
      "grid_auto_columns": null,
      "grid_auto_flow": null,
      "grid_auto_rows": null,
      "grid_column": null,
      "grid_gap": null,
      "grid_row": null,
      "grid_template_areas": null,
      "grid_template_columns": null,
      "grid_template_rows": null,
      "height": null,
      "justify_content": null,
      "justify_items": null,
      "left": null,
      "margin": null,
      "max_height": null,
      "max_width": null,
      "min_height": null,
      "min_width": null,
      "object_fit": null,
      "object_position": null,
      "order": null,
      "overflow": null,
      "overflow_x": null,
      "overflow_y": null,
      "padding": null,
      "right": null,
      "top": null,
      "visibility": null,
      "width": null
     }
    },
    "c1c8a909a3b64935944ed68dd4038455": {
     "model_module": "@jupyter-widgets/controls",
     "model_module_version": "1.5.0",
     "model_name": "ProgressStyleModel",
     "state": {
      "_model_module": "@jupyter-widgets/controls",
      "_model_module_version": "1.5.0",
      "_model_name": "ProgressStyleModel",
      "_view_count": null,
      "_view_module": "@jupyter-widgets/base",
      "_view_module_version": "1.2.0",
      "_view_name": "StyleView",
      "bar_color": null,
      "description_width": ""
     }
    },
    "c92982ba20154ac08bbf8991e178be7a": {
     "model_module": "@jupyter-widgets/controls",
     "model_module_version": "1.5.0",
     "model_name": "DescriptionStyleModel",
     "state": {
      "_model_module": "@jupyter-widgets/controls",
      "_model_module_version": "1.5.0",
      "_model_name": "DescriptionStyleModel",
      "_view_count": null,
      "_view_module": "@jupyter-widgets/base",
      "_view_module_version": "1.2.0",
      "_view_name": "StyleView",
      "description_width": ""
     }
    },
    "cdf2fc66e1b84515ad80942eda775bdd": {
     "model_module": "@jupyter-widgets/controls",
     "model_module_version": "1.5.0",
     "model_name": "FloatProgressModel",
     "state": {
      "_dom_classes": [],
      "_model_module": "@jupyter-widgets/controls",
      "_model_module_version": "1.5.0",
      "_model_name": "FloatProgressModel",
      "_view_count": null,
      "_view_module": "@jupyter-widgets/controls",
      "_view_module_version": "1.5.0",
      "_view_name": "ProgressView",
      "bar_style": "success",
      "description": "",
      "description_tooltip": null,
      "layout": "IPY_MODEL_f25687c8458e47de9dc731df45e0bc8c",
      "max": 159571,
      "min": 0,
      "orientation": "horizontal",
      "style": "IPY_MODEL_6de1242b53d2485fac11fccb56101e1f",
      "value": 159571
     }
    },
    "ce1d523f20424ecbae2cfedd55e14291": {
     "model_module": "@jupyter-widgets/base",
     "model_module_version": "1.2.0",
     "model_name": "LayoutModel",
     "state": {
      "_model_module": "@jupyter-widgets/base",
      "_model_module_version": "1.2.0",
      "_model_name": "LayoutModel",
      "_view_count": null,
      "_view_module": "@jupyter-widgets/base",
      "_view_module_version": "1.2.0",
      "_view_name": "LayoutView",
      "align_content": null,
      "align_items": null,
      "align_self": null,
      "border": null,
      "bottom": null,
      "display": null,
      "flex": null,
      "flex_flow": null,
      "grid_area": null,
      "grid_auto_columns": null,
      "grid_auto_flow": null,
      "grid_auto_rows": null,
      "grid_column": null,
      "grid_gap": null,
      "grid_row": null,
      "grid_template_areas": null,
      "grid_template_columns": null,
      "grid_template_rows": null,
      "height": null,
      "justify_content": null,
      "justify_items": null,
      "left": null,
      "margin": null,
      "max_height": null,
      "max_width": null,
      "min_height": null,
      "min_width": null,
      "object_fit": null,
      "object_position": null,
      "order": null,
      "overflow": null,
      "overflow_x": null,
      "overflow_y": null,
      "padding": null,
      "right": null,
      "top": null,
      "visibility": null,
      "width": null
     }
    },
    "d505c3c947d143d4b98dba7c57ddc9a9": {
     "model_module": "@jupyter-widgets/base",
     "model_module_version": "1.2.0",
     "model_name": "LayoutModel",
     "state": {
      "_model_module": "@jupyter-widgets/base",
      "_model_module_version": "1.2.0",
      "_model_name": "LayoutModel",
      "_view_count": null,
      "_view_module": "@jupyter-widgets/base",
      "_view_module_version": "1.2.0",
      "_view_name": "LayoutView",
      "align_content": null,
      "align_items": null,
      "align_self": null,
      "border": null,
      "bottom": null,
      "display": null,
      "flex": null,
      "flex_flow": null,
      "grid_area": null,
      "grid_auto_columns": null,
      "grid_auto_flow": null,
      "grid_auto_rows": null,
      "grid_column": null,
      "grid_gap": null,
      "grid_row": null,
      "grid_template_areas": null,
      "grid_template_columns": null,
      "grid_template_rows": null,
      "height": null,
      "justify_content": null,
      "justify_items": null,
      "left": null,
      "margin": null,
      "max_height": null,
      "max_width": null,
      "min_height": null,
      "min_width": null,
      "object_fit": null,
      "object_position": null,
      "order": null,
      "overflow": null,
      "overflow_x": null,
      "overflow_y": null,
      "padding": null,
      "right": null,
      "top": null,
      "visibility": null,
      "width": null
     }
    },
    "d5ca752c0ca94ababd378ecc4231769a": {
     "model_module": "@jupyter-widgets/controls",
     "model_module_version": "1.5.0",
     "model_name": "HTMLModel",
     "state": {
      "_dom_classes": [],
      "_model_module": "@jupyter-widgets/controls",
      "_model_module_version": "1.5.0",
      "_model_name": "HTMLModel",
      "_view_count": null,
      "_view_module": "@jupyter-widgets/controls",
      "_view_module_version": "1.5.0",
      "_view_name": "HTMLView",
      "description": "",
      "description_tooltip": null,
      "layout": "IPY_MODEL_04114b1ba4b14e7d804144d4e0aa5947",
      "placeholder": "​",
      "style": "IPY_MODEL_ddb5f2a9e007498cae9bd48d46ec484a",
      "value": "100%"
     }
    },
    "d83fb54cd42442ccbeecc50c391c910a": {
     "model_module": "@jupyter-widgets/controls",
     "model_module_version": "1.5.0",
     "model_name": "DescriptionStyleModel",
     "state": {
      "_model_module": "@jupyter-widgets/controls",
      "_model_module_version": "1.5.0",
      "_model_name": "DescriptionStyleModel",
      "_view_count": null,
      "_view_module": "@jupyter-widgets/base",
      "_view_module_version": "1.2.0",
      "_view_name": "StyleView",
      "description_width": ""
     }
    },
    "dda8d05e3fb94beca1dae74215625b9e": {
     "model_module": "@jupyter-widgets/base",
     "model_module_version": "1.2.0",
     "model_name": "LayoutModel",
     "state": {
      "_model_module": "@jupyter-widgets/base",
      "_model_module_version": "1.2.0",
      "_model_name": "LayoutModel",
      "_view_count": null,
      "_view_module": "@jupyter-widgets/base",
      "_view_module_version": "1.2.0",
      "_view_name": "LayoutView",
      "align_content": null,
      "align_items": null,
      "align_self": null,
      "border": null,
      "bottom": null,
      "display": null,
      "flex": null,
      "flex_flow": null,
      "grid_area": null,
      "grid_auto_columns": null,
      "grid_auto_flow": null,
      "grid_auto_rows": null,
      "grid_column": null,
      "grid_gap": null,
      "grid_row": null,
      "grid_template_areas": null,
      "grid_template_columns": null,
      "grid_template_rows": null,
      "height": null,
      "justify_content": null,
      "justify_items": null,
      "left": null,
      "margin": null,
      "max_height": null,
      "max_width": null,
      "min_height": null,
      "min_width": null,
      "object_fit": null,
      "object_position": null,
      "order": null,
      "overflow": null,
      "overflow_x": null,
      "overflow_y": null,
      "padding": null,
      "right": null,
      "top": null,
      "visibility": null,
      "width": null
     }
    },
    "ddb5f2a9e007498cae9bd48d46ec484a": {
     "model_module": "@jupyter-widgets/controls",
     "model_module_version": "1.5.0",
     "model_name": "DescriptionStyleModel",
     "state": {
      "_model_module": "@jupyter-widgets/controls",
      "_model_module_version": "1.5.0",
      "_model_name": "DescriptionStyleModel",
      "_view_count": null,
      "_view_module": "@jupyter-widgets/base",
      "_view_module_version": "1.2.0",
      "_view_name": "StyleView",
      "description_width": ""
     }
    },
    "df98ac59d5d848e687fa5e9468af37d8": {
     "model_module": "@jupyter-widgets/controls",
     "model_module_version": "1.5.0",
     "model_name": "HTMLModel",
     "state": {
      "_dom_classes": [],
      "_model_module": "@jupyter-widgets/controls",
      "_model_module_version": "1.5.0",
      "_model_name": "HTMLModel",
      "_view_count": null,
      "_view_module": "@jupyter-widgets/controls",
      "_view_module_version": "1.5.0",
      "_view_name": "HTMLView",
      "description": "",
      "description_tooltip": null,
      "layout": "IPY_MODEL_85d32495476f40a48326394b758a7a4f",
      "placeholder": "​",
      "style": "IPY_MODEL_d83fb54cd42442ccbeecc50c391c910a",
      "value": "100%"
     }
    },
    "e7de5c0dcda54a3ca3bdcd314504eae4": {
     "model_module": "@jupyter-widgets/controls",
     "model_module_version": "1.5.0",
     "model_name": "DescriptionStyleModel",
     "state": {
      "_model_module": "@jupyter-widgets/controls",
      "_model_module_version": "1.5.0",
      "_model_name": "DescriptionStyleModel",
      "_view_count": null,
      "_view_module": "@jupyter-widgets/base",
      "_view_module_version": "1.2.0",
      "_view_name": "StyleView",
      "description_width": ""
     }
    },
    "efdb1473add24b2d86adbffc3fb2f9aa": {
     "model_module": "@jupyter-widgets/controls",
     "model_module_version": "1.5.0",
     "model_name": "FloatProgressModel",
     "state": {
      "_dom_classes": [],
      "_model_module": "@jupyter-widgets/controls",
      "_model_module_version": "1.5.0",
      "_model_name": "FloatProgressModel",
      "_view_count": null,
      "_view_module": "@jupyter-widgets/controls",
      "_view_module_version": "1.5.0",
      "_view_name": "ProgressView",
      "bar_style": "success",
      "description": "",
      "description_tooltip": null,
      "layout": "IPY_MODEL_ce1d523f20424ecbae2cfedd55e14291",
      "max": 153164,
      "min": 0,
      "orientation": "horizontal",
      "style": "IPY_MODEL_2e545babc99d4760a538bb68148be1e4",
      "value": 153164
     }
    },
    "f058b453caf6435b890b5493838b5754": {
     "model_module": "@jupyter-widgets/controls",
     "model_module_version": "1.5.0",
     "model_name": "DescriptionStyleModel",
     "state": {
      "_model_module": "@jupyter-widgets/controls",
      "_model_module_version": "1.5.0",
      "_model_name": "DescriptionStyleModel",
      "_view_count": null,
      "_view_module": "@jupyter-widgets/base",
      "_view_module_version": "1.2.0",
      "_view_name": "StyleView",
      "description_width": ""
     }
    },
    "f25687c8458e47de9dc731df45e0bc8c": {
     "model_module": "@jupyter-widgets/base",
     "model_module_version": "1.2.0",
     "model_name": "LayoutModel",
     "state": {
      "_model_module": "@jupyter-widgets/base",
      "_model_module_version": "1.2.0",
      "_model_name": "LayoutModel",
      "_view_count": null,
      "_view_module": "@jupyter-widgets/base",
      "_view_module_version": "1.2.0",
      "_view_name": "LayoutView",
      "align_content": null,
      "align_items": null,
      "align_self": null,
      "border": null,
      "bottom": null,
      "display": null,
      "flex": null,
      "flex_flow": null,
      "grid_area": null,
      "grid_auto_columns": null,
      "grid_auto_flow": null,
      "grid_auto_rows": null,
      "grid_column": null,
      "grid_gap": null,
      "grid_row": null,
      "grid_template_areas": null,
      "grid_template_columns": null,
      "grid_template_rows": null,
      "height": null,
      "justify_content": null,
      "justify_items": null,
      "left": null,
      "margin": null,
      "max_height": null,
      "max_width": null,
      "min_height": null,
      "min_width": null,
      "object_fit": null,
      "object_position": null,
      "order": null,
      "overflow": null,
      "overflow_x": null,
      "overflow_y": null,
      "padding": null,
      "right": null,
      "top": null,
      "visibility": null,
      "width": null
     }
    },
    "f774bb423c0e4104b244ec43756b5824": {
     "model_module": "@jupyter-widgets/base",
     "model_module_version": "1.2.0",
     "model_name": "LayoutModel",
     "state": {
      "_model_module": "@jupyter-widgets/base",
      "_model_module_version": "1.2.0",
      "_model_name": "LayoutModel",
      "_view_count": null,
      "_view_module": "@jupyter-widgets/base",
      "_view_module_version": "1.2.0",
      "_view_name": "LayoutView",
      "align_content": null,
      "align_items": null,
      "align_self": null,
      "border": null,
      "bottom": null,
      "display": null,
      "flex": null,
      "flex_flow": null,
      "grid_area": null,
      "grid_auto_columns": null,
      "grid_auto_flow": null,
      "grid_auto_rows": null,
      "grid_column": null,
      "grid_gap": null,
      "grid_row": null,
      "grid_template_areas": null,
      "grid_template_columns": null,
      "grid_template_rows": null,
      "height": null,
      "justify_content": null,
      "justify_items": null,
      "left": null,
      "margin": null,
      "max_height": null,
      "max_width": null,
      "min_height": null,
      "min_width": null,
      "object_fit": null,
      "object_position": null,
      "order": null,
      "overflow": null,
      "overflow_x": null,
      "overflow_y": null,
      "padding": null,
      "right": null,
      "top": null,
      "visibility": null,
      "width": null
     }
    }
   }
  }
 },
 "nbformat": 4,
 "nbformat_minor": 1
}
